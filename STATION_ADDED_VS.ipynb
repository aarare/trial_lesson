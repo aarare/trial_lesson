{
 "cells": [
  {
   "cell_type": "code",
   "execution_count": 1,
   "metadata": {},
   "outputs": [],
   "source": [
    "import numpy as np\n",
    "import glob\n",
    "import pandas as pd\n",
    "import matplotlib.pyplot as plt\n",
    "from datetime import datetime\n",
    "import seaborn as sns"
   ]
  },
  {
   "cell_type": "code",
   "execution_count": 2,
   "metadata": {},
   "outputs": [],
   "source": [
    "df201226 = pd.read_csv('http://web.mta.info/developers/data/nyct/turnstile/turnstile_201226.txt')\n",
    "df201219=pd.read_csv('http://web.mta.info/developers/data/nyct/turnstile/turnstile_201219.txt')\n",
    "df201212=pd.read_csv('http://web.mta.info/developers/data/nyct/turnstile/turnstile_201212.txt')\n",
    "df201205=pd.read_csv('http://web.mta.info/developers/data/nyct/turnstile/turnstile_201205.txt')\n",
    "\n",
    "df191228 = pd.read_csv('http://web.mta.info/developers/data/nyct/turnstile/turnstile_191228.txt')\n",
    "df191221=pd.read_csv('http://web.mta.info/developers/data/nyct/turnstile/turnstile_191221.txt')\n",
    "df191214=pd.read_csv('http://web.mta.info/developers/data/nyct/turnstile/turnstile_191214.txt')\n",
    "df191207=pd.read_csv('http://web.mta.info/developers/data/nyct/turnstile/turnstile_191207.txt')\n",
    "\n",
    "df181229 = pd.read_csv('http://web.mta.info/developers/data/nyct/turnstile/turnstile_181229.txt')\n",
    "df181222=pd.read_csv('http://web.mta.info/developers/data/nyct/turnstile/turnstile_181222.txt')\n",
    "df181215=pd.read_csv('http://web.mta.info/developers/data/nyct/turnstile/turnstile_181215.txt')\n",
    "df181208=pd.read_csv('http://web.mta.info/developers/data/nyct/turnstile/turnstile_181208.txt')\n",
    "df181201=pd.read_csv('http://web.mta.info/developers/data/nyct/turnstile/turnstile_181201.txt')\n",
    "\n",
    "mta=pd.concat([df181201,df181208,df181215,df181222,df181229, df191207, df191214,df191221, df191228,\n",
    "              df201205,df201212,df201219, df201226 ])"
   ]
  },
  {
   "cell_type": "code",
   "execution_count": 3,
   "metadata": {},
   "outputs": [
    {
     "data": {
      "text/html": [
       "<div>\n",
       "<style scoped>\n",
       "    .dataframe tbody tr th:only-of-type {\n",
       "        vertical-align: middle;\n",
       "    }\n",
       "\n",
       "    .dataframe tbody tr th {\n",
       "        vertical-align: top;\n",
       "    }\n",
       "\n",
       "    .dataframe thead th {\n",
       "        text-align: right;\n",
       "    }\n",
       "</style>\n",
       "<table border=\"1\" class=\"dataframe\">\n",
       "  <thead>\n",
       "    <tr style=\"text-align: right;\">\n",
       "      <th></th>\n",
       "      <th>C/A</th>\n",
       "      <th>UNIT</th>\n",
       "      <th>SCP</th>\n",
       "      <th>STATION</th>\n",
       "      <th>LINENAME</th>\n",
       "      <th>DIVISION</th>\n",
       "      <th>DATE</th>\n",
       "      <th>TIME</th>\n",
       "      <th>DESC</th>\n",
       "      <th>ENTRIES</th>\n",
       "      <th>EXITS</th>\n",
       "    </tr>\n",
       "  </thead>\n",
       "  <tbody>\n",
       "    <tr>\n",
       "      <th>0</th>\n",
       "      <td>A002</td>\n",
       "      <td>R051</td>\n",
       "      <td>02-00-00</td>\n",
       "      <td>59 ST</td>\n",
       "      <td>NQR456W</td>\n",
       "      <td>BMT</td>\n",
       "      <td>11/24/2018</td>\n",
       "      <td>03:00:00</td>\n",
       "      <td>REGULAR</td>\n",
       "      <td>6845468</td>\n",
       "      <td>2321627</td>\n",
       "    </tr>\n",
       "    <tr>\n",
       "      <th>1</th>\n",
       "      <td>A002</td>\n",
       "      <td>R051</td>\n",
       "      <td>02-00-00</td>\n",
       "      <td>59 ST</td>\n",
       "      <td>NQR456W</td>\n",
       "      <td>BMT</td>\n",
       "      <td>11/24/2018</td>\n",
       "      <td>07:00:00</td>\n",
       "      <td>RECOVR AUD</td>\n",
       "      <td>6845479</td>\n",
       "      <td>2321635</td>\n",
       "    </tr>\n",
       "    <tr>\n",
       "      <th>2</th>\n",
       "      <td>A002</td>\n",
       "      <td>R051</td>\n",
       "      <td>02-00-00</td>\n",
       "      <td>59 ST</td>\n",
       "      <td>NQR456W</td>\n",
       "      <td>BMT</td>\n",
       "      <td>11/24/2018</td>\n",
       "      <td>11:00:00</td>\n",
       "      <td>RECOVR AUD</td>\n",
       "      <td>6845578</td>\n",
       "      <td>2321702</td>\n",
       "    </tr>\n",
       "    <tr>\n",
       "      <th>3</th>\n",
       "      <td>A002</td>\n",
       "      <td>R051</td>\n",
       "      <td>02-00-00</td>\n",
       "      <td>59 ST</td>\n",
       "      <td>NQR456W</td>\n",
       "      <td>BMT</td>\n",
       "      <td>11/24/2018</td>\n",
       "      <td>15:00:00</td>\n",
       "      <td>RECOVR AUD</td>\n",
       "      <td>6845780</td>\n",
       "      <td>2321753</td>\n",
       "    </tr>\n",
       "    <tr>\n",
       "      <th>4</th>\n",
       "      <td>A002</td>\n",
       "      <td>R051</td>\n",
       "      <td>02-00-00</td>\n",
       "      <td>59 ST</td>\n",
       "      <td>NQR456W</td>\n",
       "      <td>BMT</td>\n",
       "      <td>11/24/2018</td>\n",
       "      <td>19:00:00</td>\n",
       "      <td>REGULAR</td>\n",
       "      <td>6846083</td>\n",
       "      <td>2321818</td>\n",
       "    </tr>\n",
       "  </tbody>\n",
       "</table>\n",
       "</div>"
      ],
      "text/plain": [
       "    C/A  UNIT       SCP STATION LINENAME DIVISION        DATE      TIME  \\\n",
       "0  A002  R051  02-00-00   59 ST  NQR456W      BMT  11/24/2018  03:00:00   \n",
       "1  A002  R051  02-00-00   59 ST  NQR456W      BMT  11/24/2018  07:00:00   \n",
       "2  A002  R051  02-00-00   59 ST  NQR456W      BMT  11/24/2018  11:00:00   \n",
       "3  A002  R051  02-00-00   59 ST  NQR456W      BMT  11/24/2018  15:00:00   \n",
       "4  A002  R051  02-00-00   59 ST  NQR456W      BMT  11/24/2018  19:00:00   \n",
       "\n",
       "         DESC  ENTRIES  \\\n",
       "0     REGULAR  6845468   \n",
       "1  RECOVR AUD  6845479   \n",
       "2  RECOVR AUD  6845578   \n",
       "3  RECOVR AUD  6845780   \n",
       "4     REGULAR  6846083   \n",
       "\n",
       "   EXITS                                                                 \n",
       "0                                            2321627                     \n",
       "1                                            2321635                     \n",
       "2                                            2321702                     \n",
       "3                                            2321753                     \n",
       "4                                            2321818                     "
      ]
     },
     "execution_count": 3,
     "metadata": {},
     "output_type": "execute_result"
    }
   ],
   "source": [
    "mta.head(5)"
   ]
  },
  {
   "cell_type": "code",
   "execution_count": 4,
   "metadata": {},
   "outputs": [
    {
     "data": {
      "text/html": [
       "<div>\n",
       "<style scoped>\n",
       "    .dataframe tbody tr th:only-of-type {\n",
       "        vertical-align: middle;\n",
       "    }\n",
       "\n",
       "    .dataframe tbody tr th {\n",
       "        vertical-align: top;\n",
       "    }\n",
       "\n",
       "    .dataframe thead th {\n",
       "        text-align: right;\n",
       "    }\n",
       "</style>\n",
       "<table border=\"1\" class=\"dataframe\">\n",
       "  <thead>\n",
       "    <tr style=\"text-align: right;\">\n",
       "      <th></th>\n",
       "      <th>C/A</th>\n",
       "      <th>UNIT</th>\n",
       "      <th>SCP</th>\n",
       "      <th>STATION</th>\n",
       "      <th>LINENAME</th>\n",
       "      <th>DIVISION</th>\n",
       "      <th>DATE</th>\n",
       "      <th>TIME</th>\n",
       "      <th>DESC</th>\n",
       "      <th>ENTRIES</th>\n",
       "      <th>EXITS</th>\n",
       "    </tr>\n",
       "  </thead>\n",
       "  <tbody>\n",
       "    <tr>\n",
       "      <th>212294</th>\n",
       "      <td>TRAM2</td>\n",
       "      <td>R469</td>\n",
       "      <td>00-05-01</td>\n",
       "      <td>RIT-ROOSEVELT</td>\n",
       "      <td>R</td>\n",
       "      <td>RIT</td>\n",
       "      <td>12/25/2020</td>\n",
       "      <td>04:00:00</td>\n",
       "      <td>REGULAR</td>\n",
       "      <td>5554</td>\n",
       "      <td>541</td>\n",
       "    </tr>\n",
       "    <tr>\n",
       "      <th>212295</th>\n",
       "      <td>TRAM2</td>\n",
       "      <td>R469</td>\n",
       "      <td>00-05-01</td>\n",
       "      <td>RIT-ROOSEVELT</td>\n",
       "      <td>R</td>\n",
       "      <td>RIT</td>\n",
       "      <td>12/25/2020</td>\n",
       "      <td>08:00:00</td>\n",
       "      <td>REGULAR</td>\n",
       "      <td>5554</td>\n",
       "      <td>541</td>\n",
       "    </tr>\n",
       "    <tr>\n",
       "      <th>212296</th>\n",
       "      <td>TRAM2</td>\n",
       "      <td>R469</td>\n",
       "      <td>00-05-01</td>\n",
       "      <td>RIT-ROOSEVELT</td>\n",
       "      <td>R</td>\n",
       "      <td>RIT</td>\n",
       "      <td>12/25/2020</td>\n",
       "      <td>12:00:00</td>\n",
       "      <td>REGULAR</td>\n",
       "      <td>5554</td>\n",
       "      <td>541</td>\n",
       "    </tr>\n",
       "    <tr>\n",
       "      <th>212297</th>\n",
       "      <td>TRAM2</td>\n",
       "      <td>R469</td>\n",
       "      <td>00-05-01</td>\n",
       "      <td>RIT-ROOSEVELT</td>\n",
       "      <td>R</td>\n",
       "      <td>RIT</td>\n",
       "      <td>12/25/2020</td>\n",
       "      <td>16:00:00</td>\n",
       "      <td>REGULAR</td>\n",
       "      <td>5554</td>\n",
       "      <td>541</td>\n",
       "    </tr>\n",
       "    <tr>\n",
       "      <th>212298</th>\n",
       "      <td>TRAM2</td>\n",
       "      <td>R469</td>\n",
       "      <td>00-05-01</td>\n",
       "      <td>RIT-ROOSEVELT</td>\n",
       "      <td>R</td>\n",
       "      <td>RIT</td>\n",
       "      <td>12/25/2020</td>\n",
       "      <td>20:00:00</td>\n",
       "      <td>REGULAR</td>\n",
       "      <td>5554</td>\n",
       "      <td>541</td>\n",
       "    </tr>\n",
       "  </tbody>\n",
       "</table>\n",
       "</div>"
      ],
      "text/plain": [
       "          C/A  UNIT       SCP        STATION LINENAME DIVISION        DATE  \\\n",
       "212294  TRAM2  R469  00-05-01  RIT-ROOSEVELT        R      RIT  12/25/2020   \n",
       "212295  TRAM2  R469  00-05-01  RIT-ROOSEVELT        R      RIT  12/25/2020   \n",
       "212296  TRAM2  R469  00-05-01  RIT-ROOSEVELT        R      RIT  12/25/2020   \n",
       "212297  TRAM2  R469  00-05-01  RIT-ROOSEVELT        R      RIT  12/25/2020   \n",
       "212298  TRAM2  R469  00-05-01  RIT-ROOSEVELT        R      RIT  12/25/2020   \n",
       "\n",
       "            TIME     DESC  ENTRIES  \\\n",
       "212294  04:00:00  REGULAR     5554   \n",
       "212295  08:00:00  REGULAR     5554   \n",
       "212296  12:00:00  REGULAR     5554   \n",
       "212297  16:00:00  REGULAR     5554   \n",
       "212298  20:00:00  REGULAR     5554   \n",
       "\n",
       "        EXITS                                                                 \n",
       "212294                                                541                     \n",
       "212295                                                541                     \n",
       "212296                                                541                     \n",
       "212297                                                541                     \n",
       "212298                                                541                     "
      ]
     },
     "execution_count": 4,
     "metadata": {},
     "output_type": "execute_result"
    }
   ],
   "source": [
    "mta.tail()"
   ]
  },
  {
   "cell_type": "code",
   "execution_count": 5,
   "metadata": {},
   "outputs": [],
   "source": [
    "#Text dosyalarını birbirine ekleyince her bir verinin kendi indexini alıyor düzeltmek için:\n",
    "mta.reset_index(drop=True, inplace=True)"
   ]
  },
  {
   "cell_type": "code",
   "execution_count": 6,
   "metadata": {},
   "outputs": [
    {
     "data": {
      "text/plain": [
       "(2672783, 11)"
      ]
     },
     "execution_count": 6,
     "metadata": {},
     "output_type": "execute_result"
    }
   ],
   "source": [
    "mta.shape"
   ]
  },
  {
   "cell_type": "code",
   "execution_count": 7,
   "metadata": {},
   "outputs": [
    {
     "data": {
      "text/html": [
       "<div>\n",
       "<style scoped>\n",
       "    .dataframe tbody tr th:only-of-type {\n",
       "        vertical-align: middle;\n",
       "    }\n",
       "\n",
       "    .dataframe tbody tr th {\n",
       "        vertical-align: top;\n",
       "    }\n",
       "\n",
       "    .dataframe thead th {\n",
       "        text-align: right;\n",
       "    }\n",
       "</style>\n",
       "<table border=\"1\" class=\"dataframe\">\n",
       "  <thead>\n",
       "    <tr style=\"text-align: right;\">\n",
       "      <th></th>\n",
       "      <th>C/A</th>\n",
       "      <th>UNIT</th>\n",
       "      <th>SCP</th>\n",
       "      <th>STATION</th>\n",
       "      <th>LINENAME</th>\n",
       "      <th>DIVISION</th>\n",
       "      <th>DATE</th>\n",
       "      <th>TIME</th>\n",
       "      <th>DESC</th>\n",
       "      <th>ENTRIES</th>\n",
       "      <th>EXITS</th>\n",
       "    </tr>\n",
       "  </thead>\n",
       "  <tbody>\n",
       "    <tr>\n",
       "      <th>2672778</th>\n",
       "      <td>TRAM2</td>\n",
       "      <td>R469</td>\n",
       "      <td>00-05-01</td>\n",
       "      <td>RIT-ROOSEVELT</td>\n",
       "      <td>R</td>\n",
       "      <td>RIT</td>\n",
       "      <td>12/25/2020</td>\n",
       "      <td>04:00:00</td>\n",
       "      <td>REGULAR</td>\n",
       "      <td>5554</td>\n",
       "      <td>541</td>\n",
       "    </tr>\n",
       "    <tr>\n",
       "      <th>2672779</th>\n",
       "      <td>TRAM2</td>\n",
       "      <td>R469</td>\n",
       "      <td>00-05-01</td>\n",
       "      <td>RIT-ROOSEVELT</td>\n",
       "      <td>R</td>\n",
       "      <td>RIT</td>\n",
       "      <td>12/25/2020</td>\n",
       "      <td>08:00:00</td>\n",
       "      <td>REGULAR</td>\n",
       "      <td>5554</td>\n",
       "      <td>541</td>\n",
       "    </tr>\n",
       "    <tr>\n",
       "      <th>2672780</th>\n",
       "      <td>TRAM2</td>\n",
       "      <td>R469</td>\n",
       "      <td>00-05-01</td>\n",
       "      <td>RIT-ROOSEVELT</td>\n",
       "      <td>R</td>\n",
       "      <td>RIT</td>\n",
       "      <td>12/25/2020</td>\n",
       "      <td>12:00:00</td>\n",
       "      <td>REGULAR</td>\n",
       "      <td>5554</td>\n",
       "      <td>541</td>\n",
       "    </tr>\n",
       "    <tr>\n",
       "      <th>2672781</th>\n",
       "      <td>TRAM2</td>\n",
       "      <td>R469</td>\n",
       "      <td>00-05-01</td>\n",
       "      <td>RIT-ROOSEVELT</td>\n",
       "      <td>R</td>\n",
       "      <td>RIT</td>\n",
       "      <td>12/25/2020</td>\n",
       "      <td>16:00:00</td>\n",
       "      <td>REGULAR</td>\n",
       "      <td>5554</td>\n",
       "      <td>541</td>\n",
       "    </tr>\n",
       "    <tr>\n",
       "      <th>2672782</th>\n",
       "      <td>TRAM2</td>\n",
       "      <td>R469</td>\n",
       "      <td>00-05-01</td>\n",
       "      <td>RIT-ROOSEVELT</td>\n",
       "      <td>R</td>\n",
       "      <td>RIT</td>\n",
       "      <td>12/25/2020</td>\n",
       "      <td>20:00:00</td>\n",
       "      <td>REGULAR</td>\n",
       "      <td>5554</td>\n",
       "      <td>541</td>\n",
       "    </tr>\n",
       "  </tbody>\n",
       "</table>\n",
       "</div>"
      ],
      "text/plain": [
       "           C/A  UNIT       SCP        STATION LINENAME DIVISION        DATE  \\\n",
       "2672778  TRAM2  R469  00-05-01  RIT-ROOSEVELT        R      RIT  12/25/2020   \n",
       "2672779  TRAM2  R469  00-05-01  RIT-ROOSEVELT        R      RIT  12/25/2020   \n",
       "2672780  TRAM2  R469  00-05-01  RIT-ROOSEVELT        R      RIT  12/25/2020   \n",
       "2672781  TRAM2  R469  00-05-01  RIT-ROOSEVELT        R      RIT  12/25/2020   \n",
       "2672782  TRAM2  R469  00-05-01  RIT-ROOSEVELT        R      RIT  12/25/2020   \n",
       "\n",
       "             TIME     DESC  ENTRIES  \\\n",
       "2672778  04:00:00  REGULAR     5554   \n",
       "2672779  08:00:00  REGULAR     5554   \n",
       "2672780  12:00:00  REGULAR     5554   \n",
       "2672781  16:00:00  REGULAR     5554   \n",
       "2672782  20:00:00  REGULAR     5554   \n",
       "\n",
       "         EXITS                                                                 \n",
       "2672778                                                541                     \n",
       "2672779                                                541                     \n",
       "2672780                                                541                     \n",
       "2672781                                                541                     \n",
       "2672782                                                541                     "
      ]
     },
     "execution_count": 7,
     "metadata": {},
     "output_type": "execute_result"
    }
   ],
   "source": [
    "mta.tail()"
   ]
  },
  {
   "cell_type": "code",
   "execution_count": 8,
   "metadata": {},
   "outputs": [
    {
     "name": "stdout",
     "output_type": "stream",
     "text": [
      "<class 'pandas.core.frame.DataFrame'>\n",
      "RangeIndex: 2672783 entries, 0 to 2672782\n",
      "Data columns (total 11 columns):\n",
      " #   Column                                                                Dtype \n",
      "---  ------                                                                ----- \n",
      " 0   C/A                                                                   object\n",
      " 1   UNIT                                                                  object\n",
      " 2   SCP                                                                   object\n",
      " 3   STATION                                                               object\n",
      " 4   LINENAME                                                              object\n",
      " 5   DIVISION                                                              object\n",
      " 6   DATE                                                                  object\n",
      " 7   TIME                                                                  object\n",
      " 8   DESC                                                                  object\n",
      " 9   ENTRIES                                                               int64 \n",
      " 10  EXITS                                                                 int64 \n",
      "dtypes: int64(2), object(9)\n",
      "memory usage: 224.3+ MB\n"
     ]
    }
   ],
   "source": [
    "mta.info()"
   ]
  },
  {
   "cell_type": "code",
   "execution_count": 9,
   "metadata": {},
   "outputs": [],
   "source": [
    "#strip space in columns name:\n",
    "mta.columns = mta.columns.str.strip()"
   ]
  },
  {
   "cell_type": "code",
   "execution_count": 10,
   "metadata": {},
   "outputs": [],
   "source": [
    "mta.columns = mta.columns.str.lower()"
   ]
  },
  {
   "cell_type": "code",
   "execution_count": 11,
   "metadata": {},
   "outputs": [
    {
     "data": {
      "text/plain": [
       "Index(['c/a', 'unit', 'scp', 'station', 'linename', 'division', 'date', 'time',\n",
       "       'desc', 'entries', 'exits'],\n",
       "      dtype='object')"
      ]
     },
     "execution_count": 11,
     "metadata": {},
     "output_type": "execute_result"
    }
   ],
   "source": [
    "mta.columns"
   ]
  },
  {
   "cell_type": "code",
   "execution_count": 12,
   "metadata": {},
   "outputs": [],
   "source": [
    "#delete unnecessary columns:\n",
    "mta.drop([\"linename\", 'division', 'desc'], axis = 1, inplace=True)"
   ]
  },
  {
   "cell_type": "code",
   "execution_count": 13,
   "metadata": {
    "scrolled": true
   },
   "outputs": [
    {
     "data": {
      "text/html": [
       "<div>\n",
       "<style scoped>\n",
       "    .dataframe tbody tr th:only-of-type {\n",
       "        vertical-align: middle;\n",
       "    }\n",
       "\n",
       "    .dataframe tbody tr th {\n",
       "        vertical-align: top;\n",
       "    }\n",
       "\n",
       "    .dataframe thead th {\n",
       "        text-align: right;\n",
       "    }\n",
       "</style>\n",
       "<table border=\"1\" class=\"dataframe\">\n",
       "  <thead>\n",
       "    <tr style=\"text-align: right;\">\n",
       "      <th></th>\n",
       "      <th>c/a</th>\n",
       "      <th>unit</th>\n",
       "      <th>scp</th>\n",
       "      <th>station</th>\n",
       "      <th>date</th>\n",
       "      <th>time</th>\n",
       "      <th>entries</th>\n",
       "      <th>exits</th>\n",
       "    </tr>\n",
       "  </thead>\n",
       "  <tbody>\n",
       "    <tr>\n",
       "      <th>0</th>\n",
       "      <td>A002</td>\n",
       "      <td>R051</td>\n",
       "      <td>02-00-00</td>\n",
       "      <td>59 ST</td>\n",
       "      <td>11/24/2018</td>\n",
       "      <td>03:00:00</td>\n",
       "      <td>6845468</td>\n",
       "      <td>2321627</td>\n",
       "    </tr>\n",
       "    <tr>\n",
       "      <th>1</th>\n",
       "      <td>A002</td>\n",
       "      <td>R051</td>\n",
       "      <td>02-00-00</td>\n",
       "      <td>59 ST</td>\n",
       "      <td>11/24/2018</td>\n",
       "      <td>07:00:00</td>\n",
       "      <td>6845479</td>\n",
       "      <td>2321635</td>\n",
       "    </tr>\n",
       "    <tr>\n",
       "      <th>2</th>\n",
       "      <td>A002</td>\n",
       "      <td>R051</td>\n",
       "      <td>02-00-00</td>\n",
       "      <td>59 ST</td>\n",
       "      <td>11/24/2018</td>\n",
       "      <td>11:00:00</td>\n",
       "      <td>6845578</td>\n",
       "      <td>2321702</td>\n",
       "    </tr>\n",
       "    <tr>\n",
       "      <th>3</th>\n",
       "      <td>A002</td>\n",
       "      <td>R051</td>\n",
       "      <td>02-00-00</td>\n",
       "      <td>59 ST</td>\n",
       "      <td>11/24/2018</td>\n",
       "      <td>15:00:00</td>\n",
       "      <td>6845780</td>\n",
       "      <td>2321753</td>\n",
       "    </tr>\n",
       "    <tr>\n",
       "      <th>4</th>\n",
       "      <td>A002</td>\n",
       "      <td>R051</td>\n",
       "      <td>02-00-00</td>\n",
       "      <td>59 ST</td>\n",
       "      <td>11/24/2018</td>\n",
       "      <td>19:00:00</td>\n",
       "      <td>6846083</td>\n",
       "      <td>2321818</td>\n",
       "    </tr>\n",
       "  </tbody>\n",
       "</table>\n",
       "</div>"
      ],
      "text/plain": [
       "    c/a  unit       scp station        date      time  entries    exits\n",
       "0  A002  R051  02-00-00   59 ST  11/24/2018  03:00:00  6845468  2321627\n",
       "1  A002  R051  02-00-00   59 ST  11/24/2018  07:00:00  6845479  2321635\n",
       "2  A002  R051  02-00-00   59 ST  11/24/2018  11:00:00  6845578  2321702\n",
       "3  A002  R051  02-00-00   59 ST  11/24/2018  15:00:00  6845780  2321753\n",
       "4  A002  R051  02-00-00   59 ST  11/24/2018  19:00:00  6846083  2321818"
      ]
     },
     "execution_count": 13,
     "metadata": {},
     "output_type": "execute_result"
    }
   ],
   "source": [
    "mta.head()"
   ]
  },
  {
   "cell_type": "code",
   "execution_count": 14,
   "metadata": {},
   "outputs": [
    {
     "data": {
      "text/html": [
       "<div>\n",
       "<style scoped>\n",
       "    .dataframe tbody tr th:only-of-type {\n",
       "        vertical-align: middle;\n",
       "    }\n",
       "\n",
       "    .dataframe tbody tr th {\n",
       "        vertical-align: top;\n",
       "    }\n",
       "\n",
       "    .dataframe thead th {\n",
       "        text-align: right;\n",
       "    }\n",
       "</style>\n",
       "<table border=\"1\" class=\"dataframe\">\n",
       "  <thead>\n",
       "    <tr style=\"text-align: right;\">\n",
       "      <th></th>\n",
       "      <th>c/a</th>\n",
       "      <th>unit</th>\n",
       "      <th>scp</th>\n",
       "      <th>station</th>\n",
       "      <th>date</th>\n",
       "      <th>time</th>\n",
       "      <th>entries</th>\n",
       "      <th>exits</th>\n",
       "      <th>datetime</th>\n",
       "    </tr>\n",
       "  </thead>\n",
       "  <tbody>\n",
       "    <tr>\n",
       "      <th>0</th>\n",
       "      <td>A002</td>\n",
       "      <td>R051</td>\n",
       "      <td>02-00-00</td>\n",
       "      <td>59 ST</td>\n",
       "      <td>11/24/2018</td>\n",
       "      <td>03:00:00</td>\n",
       "      <td>6845468</td>\n",
       "      <td>2321627</td>\n",
       "      <td>11/24/2018 03:00:00</td>\n",
       "    </tr>\n",
       "    <tr>\n",
       "      <th>1</th>\n",
       "      <td>A002</td>\n",
       "      <td>R051</td>\n",
       "      <td>02-00-00</td>\n",
       "      <td>59 ST</td>\n",
       "      <td>11/24/2018</td>\n",
       "      <td>07:00:00</td>\n",
       "      <td>6845479</td>\n",
       "      <td>2321635</td>\n",
       "      <td>11/24/2018 07:00:00</td>\n",
       "    </tr>\n",
       "    <tr>\n",
       "      <th>2</th>\n",
       "      <td>A002</td>\n",
       "      <td>R051</td>\n",
       "      <td>02-00-00</td>\n",
       "      <td>59 ST</td>\n",
       "      <td>11/24/2018</td>\n",
       "      <td>11:00:00</td>\n",
       "      <td>6845578</td>\n",
       "      <td>2321702</td>\n",
       "      <td>11/24/2018 11:00:00</td>\n",
       "    </tr>\n",
       "    <tr>\n",
       "      <th>3</th>\n",
       "      <td>A002</td>\n",
       "      <td>R051</td>\n",
       "      <td>02-00-00</td>\n",
       "      <td>59 ST</td>\n",
       "      <td>11/24/2018</td>\n",
       "      <td>15:00:00</td>\n",
       "      <td>6845780</td>\n",
       "      <td>2321753</td>\n",
       "      <td>11/24/2018 15:00:00</td>\n",
       "    </tr>\n",
       "    <tr>\n",
       "      <th>4</th>\n",
       "      <td>A002</td>\n",
       "      <td>R051</td>\n",
       "      <td>02-00-00</td>\n",
       "      <td>59 ST</td>\n",
       "      <td>11/24/2018</td>\n",
       "      <td>19:00:00</td>\n",
       "      <td>6846083</td>\n",
       "      <td>2321818</td>\n",
       "      <td>11/24/2018 19:00:00</td>\n",
       "    </tr>\n",
       "  </tbody>\n",
       "</table>\n",
       "</div>"
      ],
      "text/plain": [
       "    c/a  unit       scp station        date      time  entries    exits  \\\n",
       "0  A002  R051  02-00-00   59 ST  11/24/2018  03:00:00  6845468  2321627   \n",
       "1  A002  R051  02-00-00   59 ST  11/24/2018  07:00:00  6845479  2321635   \n",
       "2  A002  R051  02-00-00   59 ST  11/24/2018  11:00:00  6845578  2321702   \n",
       "3  A002  R051  02-00-00   59 ST  11/24/2018  15:00:00  6845780  2321753   \n",
       "4  A002  R051  02-00-00   59 ST  11/24/2018  19:00:00  6846083  2321818   \n",
       "\n",
       "              datetime  \n",
       "0  11/24/2018 03:00:00  \n",
       "1  11/24/2018 07:00:00  \n",
       "2  11/24/2018 11:00:00  \n",
       "3  11/24/2018 15:00:00  \n",
       "4  11/24/2018 19:00:00  "
      ]
     },
     "execution_count": 14,
     "metadata": {},
     "output_type": "execute_result"
    }
   ],
   "source": [
    "# since dtype of them is object we can combine them by using \"+\"\n",
    "mta[\"datetime\"] = mta[\"date\"] + \" \" + mta[\"time\"]\n",
    "mta.head()"
   ]
  },
  {
   "cell_type": "code",
   "execution_count": 15,
   "metadata": {},
   "outputs": [],
   "source": [
    "mta[\"datetime\"] = pd.to_datetime(mta[\"datetime\"])"
   ]
  },
  {
   "cell_type": "code",
   "execution_count": 16,
   "metadata": {},
   "outputs": [],
   "source": [
    "mta[\"date\"] = pd.to_datetime(mta[\"date\"])"
   ]
  },
  {
   "cell_type": "code",
   "execution_count": 17,
   "metadata": {},
   "outputs": [],
   "source": [
    "mta[\"dayname\"] = mta[\"datetime\"].dt.day_name()"
   ]
  },
  {
   "cell_type": "code",
   "execution_count": 18,
   "metadata": {},
   "outputs": [
    {
     "name": "stdout",
     "output_type": "stream",
     "text": [
      "<class 'pandas.core.frame.DataFrame'>\n",
      "RangeIndex: 2672783 entries, 0 to 2672782\n",
      "Data columns (total 10 columns):\n",
      " #   Column    Dtype         \n",
      "---  ------    -----         \n",
      " 0   c/a       object        \n",
      " 1   unit      object        \n",
      " 2   scp       object        \n",
      " 3   station   object        \n",
      " 4   date      datetime64[ns]\n",
      " 5   time      object        \n",
      " 6   entries   int64         \n",
      " 7   exits     int64         \n",
      " 8   datetime  datetime64[ns]\n",
      " 9   dayname   object        \n",
      "dtypes: datetime64[ns](2), int64(2), object(6)\n",
      "memory usage: 203.9+ MB\n"
     ]
    }
   ],
   "source": [
    "mta.info()"
   ]
  },
  {
   "cell_type": "code",
   "execution_count": 19,
   "metadata": {},
   "outputs": [
    {
     "data": {
      "text/plain": [
       "PTH22    23320\n",
       "R610     12669\n",
       "PTH02    12587\n",
       "PTH03    12407\n",
       "PTH05    11853\n",
       "         ...  \n",
       "R411      1095\n",
       "J022      1092\n",
       "H037      1092\n",
       "N206      1008\n",
       "A085       545\n",
       "Name: c/a, Length: 751, dtype: int64"
      ]
     },
     "execution_count": 19,
     "metadata": {},
     "output_type": "execute_result"
    }
   ],
   "source": [
    "mta[\"c/a\"].value_counts()"
   ]
  },
  {
   "cell_type": "code",
   "execution_count": 20,
   "metadata": {},
   "outputs": [
    {
     "data": {
      "text/plain": [
       "R549    37257\n",
       "R014    27475\n",
       "R057    26847\n",
       "R029    25816\n",
       "R540    25795\n",
       "        ...  \n",
       "R455     1614\n",
       "R262     1593\n",
       "R280     1535\n",
       "R349     1092\n",
       "R435     1092\n",
       "Name: unit, Length: 469, dtype: int64"
      ]
     },
     "execution_count": 20,
     "metadata": {},
     "output_type": "execute_result"
    }
   ],
   "source": [
    "mta[\"unit\"].value_counts()"
   ]
  },
  {
   "cell_type": "code",
   "execution_count": 21,
   "metadata": {},
   "outputs": [
    {
     "data": {
      "text/plain": [
       "00-00-00    251495\n",
       "00-00-01    249795\n",
       "00-00-02    222646\n",
       "00-00-03    112159\n",
       "00-03-00     93878\n",
       "             ...  \n",
       "03-00-08         3\n",
       "00-F6-01         1\n",
       "00-10-00         1\n",
       "02-01-08         1\n",
       "04-03-04         1\n",
       "Name: scp, Length: 230, dtype: int64"
      ]
     },
     "execution_count": 21,
     "metadata": {},
     "output_type": "execute_result"
    }
   ],
   "source": [
    "mta[\"scp\"].value_counts()"
   ]
  },
  {
   "cell_type": "code",
   "execution_count": 22,
   "metadata": {},
   "outputs": [
    {
     "data": {
      "text/plain": [
       "34 ST-PENN STA     55240\n",
       "FULTON ST          52626\n",
       "GRD CNTRL-42 ST    41627\n",
       "23 ST              39926\n",
       "86 ST              33236\n",
       "                   ...  \n",
       "ALLERTON AV         1631\n",
       "BEVERLEY ROAD       1593\n",
       "190 ST              1535\n",
       "CLEVELAND ST        1092\n",
       "SUTTER AV           1092\n",
       "Name: station, Length: 378, dtype: int64"
      ]
     },
     "execution_count": 22,
     "metadata": {},
     "output_type": "execute_result"
    }
   ],
   "source": [
    "mta[\"station\"].value_counts()"
   ]
  },
  {
   "cell_type": "code",
   "execution_count": 23,
   "metadata": {},
   "outputs": [
    {
     "data": {
      "text/plain": [
       "c/a         False\n",
       "unit        False\n",
       "scp         False\n",
       "station     False\n",
       "date        False\n",
       "time        False\n",
       "entries     False\n",
       "exits       False\n",
       "datetime    False\n",
       "dayname     False\n",
       "dtype: bool"
      ]
     },
     "execution_count": 23,
     "metadata": {},
     "output_type": "execute_result"
    }
   ],
   "source": [
    "mta.isnull().any()"
   ]
  },
  {
   "cell_type": "code",
   "execution_count": 24,
   "metadata": {},
   "outputs": [
    {
     "data": {
      "text/html": [
       "<div>\n",
       "<style scoped>\n",
       "    .dataframe tbody tr th:only-of-type {\n",
       "        vertical-align: middle;\n",
       "    }\n",
       "\n",
       "    .dataframe tbody tr th {\n",
       "        vertical-align: top;\n",
       "    }\n",
       "\n",
       "    .dataframe thead th {\n",
       "        text-align: right;\n",
       "    }\n",
       "</style>\n",
       "<table border=\"1\" class=\"dataframe\">\n",
       "  <thead>\n",
       "    <tr style=\"text-align: right;\">\n",
       "      <th></th>\n",
       "      <th>c/a</th>\n",
       "      <th>unit</th>\n",
       "      <th>scp</th>\n",
       "      <th>station</th>\n",
       "      <th>date</th>\n",
       "      <th>time</th>\n",
       "      <th>entries</th>\n",
       "      <th>exits</th>\n",
       "      <th>datetime</th>\n",
       "      <th>dayname</th>\n",
       "      <th>turnstile</th>\n",
       "    </tr>\n",
       "  </thead>\n",
       "  <tbody>\n",
       "    <tr>\n",
       "      <th>0</th>\n",
       "      <td>A002</td>\n",
       "      <td>R051</td>\n",
       "      <td>02-00-00</td>\n",
       "      <td>59 ST</td>\n",
       "      <td>2018-11-24</td>\n",
       "      <td>03:00:00</td>\n",
       "      <td>6845468</td>\n",
       "      <td>2321627</td>\n",
       "      <td>2018-11-24 03:00:00</td>\n",
       "      <td>Saturday</td>\n",
       "      <td>A002-R051-02-00-00-59 ST</td>\n",
       "    </tr>\n",
       "    <tr>\n",
       "      <th>1</th>\n",
       "      <td>A002</td>\n",
       "      <td>R051</td>\n",
       "      <td>02-00-00</td>\n",
       "      <td>59 ST</td>\n",
       "      <td>2018-11-24</td>\n",
       "      <td>07:00:00</td>\n",
       "      <td>6845479</td>\n",
       "      <td>2321635</td>\n",
       "      <td>2018-11-24 07:00:00</td>\n",
       "      <td>Saturday</td>\n",
       "      <td>A002-R051-02-00-00-59 ST</td>\n",
       "    </tr>\n",
       "    <tr>\n",
       "      <th>2</th>\n",
       "      <td>A002</td>\n",
       "      <td>R051</td>\n",
       "      <td>02-00-00</td>\n",
       "      <td>59 ST</td>\n",
       "      <td>2018-11-24</td>\n",
       "      <td>11:00:00</td>\n",
       "      <td>6845578</td>\n",
       "      <td>2321702</td>\n",
       "      <td>2018-11-24 11:00:00</td>\n",
       "      <td>Saturday</td>\n",
       "      <td>A002-R051-02-00-00-59 ST</td>\n",
       "    </tr>\n",
       "    <tr>\n",
       "      <th>3</th>\n",
       "      <td>A002</td>\n",
       "      <td>R051</td>\n",
       "      <td>02-00-00</td>\n",
       "      <td>59 ST</td>\n",
       "      <td>2018-11-24</td>\n",
       "      <td>15:00:00</td>\n",
       "      <td>6845780</td>\n",
       "      <td>2321753</td>\n",
       "      <td>2018-11-24 15:00:00</td>\n",
       "      <td>Saturday</td>\n",
       "      <td>A002-R051-02-00-00-59 ST</td>\n",
       "    </tr>\n",
       "    <tr>\n",
       "      <th>4</th>\n",
       "      <td>A002</td>\n",
       "      <td>R051</td>\n",
       "      <td>02-00-00</td>\n",
       "      <td>59 ST</td>\n",
       "      <td>2018-11-24</td>\n",
       "      <td>19:00:00</td>\n",
       "      <td>6846083</td>\n",
       "      <td>2321818</td>\n",
       "      <td>2018-11-24 19:00:00</td>\n",
       "      <td>Saturday</td>\n",
       "      <td>A002-R051-02-00-00-59 ST</td>\n",
       "    </tr>\n",
       "    <tr>\n",
       "      <th>5</th>\n",
       "      <td>A002</td>\n",
       "      <td>R051</td>\n",
       "      <td>02-00-00</td>\n",
       "      <td>59 ST</td>\n",
       "      <td>2018-11-24</td>\n",
       "      <td>23:00:00</td>\n",
       "      <td>6846261</td>\n",
       "      <td>2321843</td>\n",
       "      <td>2018-11-24 23:00:00</td>\n",
       "      <td>Saturday</td>\n",
       "      <td>A002-R051-02-00-00-59 ST</td>\n",
       "    </tr>\n",
       "    <tr>\n",
       "      <th>6</th>\n",
       "      <td>A002</td>\n",
       "      <td>R051</td>\n",
       "      <td>02-00-00</td>\n",
       "      <td>59 ST</td>\n",
       "      <td>2018-11-25</td>\n",
       "      <td>03:00:00</td>\n",
       "      <td>6846296</td>\n",
       "      <td>2321858</td>\n",
       "      <td>2018-11-25 03:00:00</td>\n",
       "      <td>Sunday</td>\n",
       "      <td>A002-R051-02-00-00-59 ST</td>\n",
       "    </tr>\n",
       "    <tr>\n",
       "      <th>7</th>\n",
       "      <td>A002</td>\n",
       "      <td>R051</td>\n",
       "      <td>02-00-00</td>\n",
       "      <td>59 ST</td>\n",
       "      <td>2018-11-25</td>\n",
       "      <td>07:00:00</td>\n",
       "      <td>6846304</td>\n",
       "      <td>2321868</td>\n",
       "      <td>2018-11-25 07:00:00</td>\n",
       "      <td>Sunday</td>\n",
       "      <td>A002-R051-02-00-00-59 ST</td>\n",
       "    </tr>\n",
       "    <tr>\n",
       "      <th>8</th>\n",
       "      <td>A002</td>\n",
       "      <td>R051</td>\n",
       "      <td>02-00-00</td>\n",
       "      <td>59 ST</td>\n",
       "      <td>2018-11-25</td>\n",
       "      <td>11:00:00</td>\n",
       "      <td>6846361</td>\n",
       "      <td>2321919</td>\n",
       "      <td>2018-11-25 11:00:00</td>\n",
       "      <td>Sunday</td>\n",
       "      <td>A002-R051-02-00-00-59 ST</td>\n",
       "    </tr>\n",
       "    <tr>\n",
       "      <th>9</th>\n",
       "      <td>A002</td>\n",
       "      <td>R051</td>\n",
       "      <td>02-00-00</td>\n",
       "      <td>59 ST</td>\n",
       "      <td>2018-11-25</td>\n",
       "      <td>15:00:00</td>\n",
       "      <td>6846560</td>\n",
       "      <td>2321983</td>\n",
       "      <td>2018-11-25 15:00:00</td>\n",
       "      <td>Sunday</td>\n",
       "      <td>A002-R051-02-00-00-59 ST</td>\n",
       "    </tr>\n",
       "    <tr>\n",
       "      <th>10</th>\n",
       "      <td>A002</td>\n",
       "      <td>R051</td>\n",
       "      <td>02-00-00</td>\n",
       "      <td>59 ST</td>\n",
       "      <td>2018-11-25</td>\n",
       "      <td>19:00:00</td>\n",
       "      <td>6846813</td>\n",
       "      <td>2322027</td>\n",
       "      <td>2018-11-25 19:00:00</td>\n",
       "      <td>Sunday</td>\n",
       "      <td>A002-R051-02-00-00-59 ST</td>\n",
       "    </tr>\n",
       "    <tr>\n",
       "      <th>11</th>\n",
       "      <td>A002</td>\n",
       "      <td>R051</td>\n",
       "      <td>02-00-00</td>\n",
       "      <td>59 ST</td>\n",
       "      <td>2018-11-25</td>\n",
       "      <td>23:00:00</td>\n",
       "      <td>6847001</td>\n",
       "      <td>2322059</td>\n",
       "      <td>2018-11-25 23:00:00</td>\n",
       "      <td>Sunday</td>\n",
       "      <td>A002-R051-02-00-00-59 ST</td>\n",
       "    </tr>\n",
       "  </tbody>\n",
       "</table>\n",
       "</div>"
      ],
      "text/plain": [
       "     c/a  unit       scp station       date      time  entries    exits  \\\n",
       "0   A002  R051  02-00-00   59 ST 2018-11-24  03:00:00  6845468  2321627   \n",
       "1   A002  R051  02-00-00   59 ST 2018-11-24  07:00:00  6845479  2321635   \n",
       "2   A002  R051  02-00-00   59 ST 2018-11-24  11:00:00  6845578  2321702   \n",
       "3   A002  R051  02-00-00   59 ST 2018-11-24  15:00:00  6845780  2321753   \n",
       "4   A002  R051  02-00-00   59 ST 2018-11-24  19:00:00  6846083  2321818   \n",
       "5   A002  R051  02-00-00   59 ST 2018-11-24  23:00:00  6846261  2321843   \n",
       "6   A002  R051  02-00-00   59 ST 2018-11-25  03:00:00  6846296  2321858   \n",
       "7   A002  R051  02-00-00   59 ST 2018-11-25  07:00:00  6846304  2321868   \n",
       "8   A002  R051  02-00-00   59 ST 2018-11-25  11:00:00  6846361  2321919   \n",
       "9   A002  R051  02-00-00   59 ST 2018-11-25  15:00:00  6846560  2321983   \n",
       "10  A002  R051  02-00-00   59 ST 2018-11-25  19:00:00  6846813  2322027   \n",
       "11  A002  R051  02-00-00   59 ST 2018-11-25  23:00:00  6847001  2322059   \n",
       "\n",
       "              datetime   dayname                 turnstile  \n",
       "0  2018-11-24 03:00:00  Saturday  A002-R051-02-00-00-59 ST  \n",
       "1  2018-11-24 07:00:00  Saturday  A002-R051-02-00-00-59 ST  \n",
       "2  2018-11-24 11:00:00  Saturday  A002-R051-02-00-00-59 ST  \n",
       "3  2018-11-24 15:00:00  Saturday  A002-R051-02-00-00-59 ST  \n",
       "4  2018-11-24 19:00:00  Saturday  A002-R051-02-00-00-59 ST  \n",
       "5  2018-11-24 23:00:00  Saturday  A002-R051-02-00-00-59 ST  \n",
       "6  2018-11-25 03:00:00    Sunday  A002-R051-02-00-00-59 ST  \n",
       "7  2018-11-25 07:00:00    Sunday  A002-R051-02-00-00-59 ST  \n",
       "8  2018-11-25 11:00:00    Sunday  A002-R051-02-00-00-59 ST  \n",
       "9  2018-11-25 15:00:00    Sunday  A002-R051-02-00-00-59 ST  \n",
       "10 2018-11-25 19:00:00    Sunday  A002-R051-02-00-00-59 ST  \n",
       "11 2018-11-25 23:00:00    Sunday  A002-R051-02-00-00-59 ST  "
      ]
     },
     "execution_count": 24,
     "metadata": {},
     "output_type": "execute_result"
    }
   ],
   "source": [
    "# We can combine the columns that identify the turnstiles\n",
    "mta[\"turnstile\"] = mta[\"c/a\"] + \"-\" + mta[\"unit\"] + \"-\" + mta[\"scp\"] + \"-\" + mta[\"station\"]\n",
    "mta.head(12)"
   ]
  },
  {
   "cell_type": "markdown",
   "metadata": {},
   "source": [
    "**Calculation of counts of people who entry on each turnstile for determine daily entries**"
   ]
  },
  {
   "cell_type": "code",
   "execution_count": 25,
   "metadata": {},
   "outputs": [],
   "source": [
    "mta.sort_values(by=[\"datetime\"], inplace=True)"
   ]
  },
  {
   "cell_type": "code",
   "execution_count": 26,
   "metadata": {},
   "outputs": [
    {
     "data": {
      "text/html": [
       "<div>\n",
       "<style scoped>\n",
       "    .dataframe tbody tr th:only-of-type {\n",
       "        vertical-align: middle;\n",
       "    }\n",
       "\n",
       "    .dataframe tbody tr th {\n",
       "        vertical-align: top;\n",
       "    }\n",
       "\n",
       "    .dataframe thead th {\n",
       "        text-align: right;\n",
       "    }\n",
       "</style>\n",
       "<table border=\"1\" class=\"dataframe\">\n",
       "  <thead>\n",
       "    <tr style=\"text-align: right;\">\n",
       "      <th></th>\n",
       "      <th>c/a</th>\n",
       "      <th>unit</th>\n",
       "      <th>scp</th>\n",
       "      <th>station</th>\n",
       "      <th>date</th>\n",
       "      <th>time</th>\n",
       "      <th>entries</th>\n",
       "      <th>exits</th>\n",
       "      <th>datetime</th>\n",
       "      <th>dayname</th>\n",
       "      <th>turnstile</th>\n",
       "    </tr>\n",
       "  </thead>\n",
       "  <tbody>\n",
       "    <tr>\n",
       "      <th>2581499</th>\n",
       "      <td>PTH02</td>\n",
       "      <td>R544</td>\n",
       "      <td>00-00-00</td>\n",
       "      <td>HARRISON</td>\n",
       "      <td>2020-12-25</td>\n",
       "      <td>23:54:55</td>\n",
       "      <td>113074</td>\n",
       "      <td>16657</td>\n",
       "      <td>2020-12-25 23:54:55</td>\n",
       "      <td>Friday</td>\n",
       "      <td>PTH02-R544-00-00-00-HARRISON</td>\n",
       "    </tr>\n",
       "    <tr>\n",
       "      <th>2583965</th>\n",
       "      <td>PTH04</td>\n",
       "      <td>R551</td>\n",
       "      <td>00-01-03</td>\n",
       "      <td>GROVE STREET</td>\n",
       "      <td>2020-12-25</td>\n",
       "      <td>23:56:56</td>\n",
       "      <td>373539</td>\n",
       "      <td>626242</td>\n",
       "      <td>2020-12-25 23:56:56</td>\n",
       "      <td>Friday</td>\n",
       "      <td>PTH04-R551-00-01-03-GROVE STREET</td>\n",
       "    </tr>\n",
       "    <tr>\n",
       "      <th>2592216</th>\n",
       "      <td>PTH21</td>\n",
       "      <td>R540</td>\n",
       "      <td>01-00-03</td>\n",
       "      <td>PATH WTC 2</td>\n",
       "      <td>2020-12-25</td>\n",
       "      <td>23:57:15</td>\n",
       "      <td>5366</td>\n",
       "      <td>42290</td>\n",
       "      <td>2020-12-25 23:57:15</td>\n",
       "      <td>Friday</td>\n",
       "      <td>PTH21-R540-01-00-03-PATH WTC 2</td>\n",
       "    </tr>\n",
       "    <tr>\n",
       "      <th>2588382</th>\n",
       "      <td>PTH16</td>\n",
       "      <td>R550</td>\n",
       "      <td>01-00-02</td>\n",
       "      <td>LACKAWANNA</td>\n",
       "      <td>2020-12-25</td>\n",
       "      <td>23:58:37</td>\n",
       "      <td>2461</td>\n",
       "      <td>5091</td>\n",
       "      <td>2020-12-25 23:58:37</td>\n",
       "      <td>Friday</td>\n",
       "      <td>PTH16-R550-01-00-02-LACKAWANNA</td>\n",
       "    </tr>\n",
       "    <tr>\n",
       "      <th>2588262</th>\n",
       "      <td>PTH13</td>\n",
       "      <td>R541</td>\n",
       "      <td>00-04-09</td>\n",
       "      <td>THIRTY ST</td>\n",
       "      <td>2020-12-25</td>\n",
       "      <td>23:59:52</td>\n",
       "      <td>42</td>\n",
       "      <td>37</td>\n",
       "      <td>2020-12-25 23:59:52</td>\n",
       "      <td>Friday</td>\n",
       "      <td>PTH13-R541-00-04-09-THIRTY ST</td>\n",
       "    </tr>\n",
       "  </tbody>\n",
       "</table>\n",
       "</div>"
      ],
      "text/plain": [
       "           c/a  unit       scp       station       date      time  entries  \\\n",
       "2581499  PTH02  R544  00-00-00      HARRISON 2020-12-25  23:54:55   113074   \n",
       "2583965  PTH04  R551  00-01-03  GROVE STREET 2020-12-25  23:56:56   373539   \n",
       "2592216  PTH21  R540  01-00-03    PATH WTC 2 2020-12-25  23:57:15     5366   \n",
       "2588382  PTH16  R550  01-00-02    LACKAWANNA 2020-12-25  23:58:37     2461   \n",
       "2588262  PTH13  R541  00-04-09     THIRTY ST 2020-12-25  23:59:52       42   \n",
       "\n",
       "          exits            datetime dayname                         turnstile  \n",
       "2581499   16657 2020-12-25 23:54:55  Friday      PTH02-R544-00-00-00-HARRISON  \n",
       "2583965  626242 2020-12-25 23:56:56  Friday  PTH04-R551-00-01-03-GROVE STREET  \n",
       "2592216   42290 2020-12-25 23:57:15  Friday    PTH21-R540-01-00-03-PATH WTC 2  \n",
       "2588382    5091 2020-12-25 23:58:37  Friday    PTH16-R550-01-00-02-LACKAWANNA  \n",
       "2588262      37 2020-12-25 23:59:52  Friday     PTH13-R541-00-04-09-THIRTY ST  "
      ]
     },
     "execution_count": 26,
     "metadata": {},
     "output_type": "execute_result"
    }
   ],
   "source": [
    "mta.tail()"
   ]
  },
  {
   "cell_type": "markdown",
   "metadata": {},
   "source": [
    "# BURADAN ITIBAREN GROUP BY'A STATION BILGISINI DE EKLEMEYE BASLADIK KI SONRA STATIONA GORE SUM ALDIRABILELIM"
   ]
  },
  {
   "cell_type": "code",
   "execution_count": 27,
   "metadata": {},
   "outputs": [
    {
     "data": {
      "text/html": [
       "<div>\n",
       "<style scoped>\n",
       "    .dataframe tbody tr th:only-of-type {\n",
       "        vertical-align: middle;\n",
       "    }\n",
       "\n",
       "    .dataframe tbody tr th {\n",
       "        vertical-align: top;\n",
       "    }\n",
       "\n",
       "    .dataframe thead th {\n",
       "        text-align: right;\n",
       "    }\n",
       "</style>\n",
       "<table border=\"1\" class=\"dataframe\">\n",
       "  <thead>\n",
       "    <tr style=\"text-align: right;\">\n",
       "      <th></th>\n",
       "      <th></th>\n",
       "      <th>entries</th>\n",
       "    </tr>\n",
       "    <tr>\n",
       "      <th>turnstile</th>\n",
       "      <th>station</th>\n",
       "      <th></th>\n",
       "    </tr>\n",
       "  </thead>\n",
       "  <tbody>\n",
       "    <tr>\n",
       "      <th>A002-R051-02-00-00-59 ST</th>\n",
       "      <th>59 ST</th>\n",
       "      <td>7508502</td>\n",
       "    </tr>\n",
       "    <tr>\n",
       "      <th>A002-R051-02-00-01-59 ST</th>\n",
       "      <th>59 ST</th>\n",
       "      <td>6657152</td>\n",
       "    </tr>\n",
       "    <tr>\n",
       "      <th>A002-R051-02-03-00-59 ST</th>\n",
       "      <th>59 ST</th>\n",
       "      <td>1406768</td>\n",
       "    </tr>\n",
       "    <tr>\n",
       "      <th>A002-R051-02-03-01-59 ST</th>\n",
       "      <th>59 ST</th>\n",
       "      <td>1529850</td>\n",
       "    </tr>\n",
       "    <tr>\n",
       "      <th>A002-R051-02-03-02-59 ST</th>\n",
       "      <th>59 ST</th>\n",
       "      <td>6612649</td>\n",
       "    </tr>\n",
       "    <tr>\n",
       "      <th>...</th>\n",
       "      <th>...</th>\n",
       "      <td>...</td>\n",
       "    </tr>\n",
       "    <tr>\n",
       "      <th>TRAM2-R469-00-00-01-RIT-ROOSEVELT</th>\n",
       "      <th>RIT-ROOSEVELT</th>\n",
       "      <td>3621906</td>\n",
       "    </tr>\n",
       "    <tr>\n",
       "      <th>TRAM2-R469-00-03-00-RIT-ROOSEVELT</th>\n",
       "      <th>RIT-ROOSEVELT</th>\n",
       "      <td>753039</td>\n",
       "    </tr>\n",
       "    <tr>\n",
       "      <th>TRAM2-R469-00-03-01-RIT-ROOSEVELT</th>\n",
       "      <th>RIT-ROOSEVELT</th>\n",
       "      <td>3133524</td>\n",
       "    </tr>\n",
       "    <tr>\n",
       "      <th>TRAM2-R469-00-05-00-RIT-ROOSEVELT</th>\n",
       "      <th>RIT-ROOSEVELT</th>\n",
       "      <td>3190</td>\n",
       "    </tr>\n",
       "    <tr>\n",
       "      <th>TRAM2-R469-00-05-01-RIT-ROOSEVELT</th>\n",
       "      <th>RIT-ROOSEVELT</th>\n",
       "      <td>5554</td>\n",
       "    </tr>\n",
       "  </tbody>\n",
       "</table>\n",
       "<p>5076 rows × 1 columns</p>\n",
       "</div>"
      ],
      "text/plain": [
       "                                                 entries\n",
       "turnstile                         station               \n",
       "A002-R051-02-00-00-59 ST          59 ST          7508502\n",
       "A002-R051-02-00-01-59 ST          59 ST          6657152\n",
       "A002-R051-02-03-00-59 ST          59 ST          1406768\n",
       "A002-R051-02-03-01-59 ST          59 ST          1529850\n",
       "A002-R051-02-03-02-59 ST          59 ST          6612649\n",
       "...                                                  ...\n",
       "TRAM2-R469-00-00-01-RIT-ROOSEVELT RIT-ROOSEVELT  3621906\n",
       "TRAM2-R469-00-03-00-RIT-ROOSEVELT RIT-ROOSEVELT   753039\n",
       "TRAM2-R469-00-03-01-RIT-ROOSEVELT RIT-ROOSEVELT  3133524\n",
       "TRAM2-R469-00-05-00-RIT-ROOSEVELT RIT-ROOSEVELT     3190\n",
       "TRAM2-R469-00-05-01-RIT-ROOSEVELT RIT-ROOSEVELT     5554\n",
       "\n",
       "[5076 rows x 1 columns]"
      ]
     },
     "execution_count": 27,
     "metadata": {},
     "output_type": "execute_result"
    }
   ],
   "source": [
    "mta.groupby([\"turnstile\",\"station\"])[[\"entries\"]].max()"
   ]
  },
  {
   "cell_type": "code",
   "execution_count": 28,
   "metadata": {},
   "outputs": [],
   "source": [
    "mta[\"counts\"] = mta.groupby([\"turnstile\",\"station\"])[\"entries\"].diff()"
   ]
  },
  {
   "cell_type": "code",
   "execution_count": 29,
   "metadata": {},
   "outputs": [
    {
     "data": {
      "text/html": [
       "<div>\n",
       "<style scoped>\n",
       "    .dataframe tbody tr th:only-of-type {\n",
       "        vertical-align: middle;\n",
       "    }\n",
       "\n",
       "    .dataframe tbody tr th {\n",
       "        vertical-align: top;\n",
       "    }\n",
       "\n",
       "    .dataframe thead th {\n",
       "        text-align: right;\n",
       "    }\n",
       "</style>\n",
       "<table border=\"1\" class=\"dataframe\">\n",
       "  <thead>\n",
       "    <tr style=\"text-align: right;\">\n",
       "      <th></th>\n",
       "      <th></th>\n",
       "      <th></th>\n",
       "      <th>entries</th>\n",
       "      <th>counts</th>\n",
       "    </tr>\n",
       "    <tr>\n",
       "      <th>turnstile</th>\n",
       "      <th>station</th>\n",
       "      <th>datetime</th>\n",
       "      <th></th>\n",
       "      <th></th>\n",
       "    </tr>\n",
       "  </thead>\n",
       "  <tbody>\n",
       "    <tr>\n",
       "      <th rowspan=\"11\" valign=\"top\">A002-R051-02-00-00-59 ST</th>\n",
       "      <th rowspan=\"11\" valign=\"top\">59 ST</th>\n",
       "      <th>2018-11-24 03:00:00</th>\n",
       "      <td>6845468</td>\n",
       "      <td>NaN</td>\n",
       "    </tr>\n",
       "    <tr>\n",
       "      <th>2018-11-24 07:00:00</th>\n",
       "      <td>6845479</td>\n",
       "      <td>11.0</td>\n",
       "    </tr>\n",
       "    <tr>\n",
       "      <th>2018-11-24 11:00:00</th>\n",
       "      <td>6845578</td>\n",
       "      <td>99.0</td>\n",
       "    </tr>\n",
       "    <tr>\n",
       "      <th>2018-11-24 15:00:00</th>\n",
       "      <td>6845780</td>\n",
       "      <td>202.0</td>\n",
       "    </tr>\n",
       "    <tr>\n",
       "      <th>2018-11-24 19:00:00</th>\n",
       "      <td>6846083</td>\n",
       "      <td>303.0</td>\n",
       "    </tr>\n",
       "    <tr>\n",
       "      <th>...</th>\n",
       "      <td>...</td>\n",
       "      <td>...</td>\n",
       "    </tr>\n",
       "    <tr>\n",
       "      <th>2018-12-09 23:00:00</th>\n",
       "      <td>6864749</td>\n",
       "      <td>156.0</td>\n",
       "    </tr>\n",
       "    <tr>\n",
       "      <th>2018-12-10 03:00:00</th>\n",
       "      <td>6864772</td>\n",
       "      <td>23.0</td>\n",
       "    </tr>\n",
       "    <tr>\n",
       "      <th>2018-12-10 07:00:00</th>\n",
       "      <td>6864782</td>\n",
       "      <td>10.0</td>\n",
       "    </tr>\n",
       "    <tr>\n",
       "      <th>2018-12-10 11:00:00</th>\n",
       "      <td>6864933</td>\n",
       "      <td>151.0</td>\n",
       "    </tr>\n",
       "    <tr>\n",
       "      <th>2018-12-10 15:00:00</th>\n",
       "      <td>6865186</td>\n",
       "      <td>253.0</td>\n",
       "    </tr>\n",
       "  </tbody>\n",
       "</table>\n",
       "<p>100 rows × 2 columns</p>\n",
       "</div>"
      ],
      "text/plain": [
       "                                                      entries  counts\n",
       "turnstile                station datetime                            \n",
       "A002-R051-02-00-00-59 ST 59 ST   2018-11-24 03:00:00  6845468     NaN\n",
       "                                 2018-11-24 07:00:00  6845479    11.0\n",
       "                                 2018-11-24 11:00:00  6845578    99.0\n",
       "                                 2018-11-24 15:00:00  6845780   202.0\n",
       "                                 2018-11-24 19:00:00  6846083   303.0\n",
       "...                                                       ...     ...\n",
       "                                 2018-12-09 23:00:00  6864749   156.0\n",
       "                                 2018-12-10 03:00:00  6864772    23.0\n",
       "                                 2018-12-10 07:00:00  6864782    10.0\n",
       "                                 2018-12-10 11:00:00  6864933   151.0\n",
       "                                 2018-12-10 15:00:00  6865186   253.0\n",
       "\n",
       "[100 rows x 2 columns]"
      ]
     },
     "execution_count": 29,
     "metadata": {},
     "output_type": "execute_result"
    }
   ],
   "source": [
    "#kontrol için:\n",
    "mta.groupby([\"turnstile\", \"station\", \"datetime\"])[[\"entries\",\"counts\"]].max().head(100)"
   ]
  },
  {
   "cell_type": "code",
   "execution_count": 30,
   "metadata": {},
   "outputs": [
    {
     "data": {
      "text/plain": [
       "True"
      ]
     },
     "execution_count": 30,
     "metadata": {},
     "output_type": "execute_result"
    }
   ],
   "source": [
    "(mta.counts < 0).any()"
   ]
  },
  {
   "cell_type": "code",
   "execution_count": 31,
   "metadata": {},
   "outputs": [
    {
     "data": {
      "text/html": [
       "<div>\n",
       "<style scoped>\n",
       "    .dataframe tbody tr th:only-of-type {\n",
       "        vertical-align: middle;\n",
       "    }\n",
       "\n",
       "    .dataframe tbody tr th {\n",
       "        vertical-align: top;\n",
       "    }\n",
       "\n",
       "    .dataframe thead th {\n",
       "        text-align: right;\n",
       "    }\n",
       "</style>\n",
       "<table border=\"1\" class=\"dataframe\">\n",
       "  <thead>\n",
       "    <tr style=\"text-align: right;\">\n",
       "      <th></th>\n",
       "      <th>c/a</th>\n",
       "      <th>unit</th>\n",
       "      <th>scp</th>\n",
       "      <th>station</th>\n",
       "      <th>date</th>\n",
       "      <th>time</th>\n",
       "      <th>entries</th>\n",
       "      <th>exits</th>\n",
       "      <th>datetime</th>\n",
       "      <th>dayname</th>\n",
       "      <th>turnstile</th>\n",
       "      <th>counts</th>\n",
       "    </tr>\n",
       "  </thead>\n",
       "  <tbody>\n",
       "    <tr>\n",
       "      <th>165505</th>\n",
       "      <td>R304</td>\n",
       "      <td>R206</td>\n",
       "      <td>00-00-00</td>\n",
       "      <td>125 ST</td>\n",
       "      <td>2018-11-24</td>\n",
       "      <td>04:00:00</td>\n",
       "      <td>1691635476</td>\n",
       "      <td>789296721</td>\n",
       "      <td>2018-11-24 04:00:00</td>\n",
       "      <td>Saturday</td>\n",
       "      <td>R304-R206-00-00-00-125 ST</td>\n",
       "      <td>-27.0</td>\n",
       "    </tr>\n",
       "    <tr>\n",
       "      <th>151092</th>\n",
       "      <td>R227</td>\n",
       "      <td>R131</td>\n",
       "      <td>00-00-00</td>\n",
       "      <td>23 ST</td>\n",
       "      <td>2018-11-24</td>\n",
       "      <td>04:00:00</td>\n",
       "      <td>920259537</td>\n",
       "      <td>886527620</td>\n",
       "      <td>2018-11-24 04:00:00</td>\n",
       "      <td>Saturday</td>\n",
       "      <td>R227-R131-00-00-00-23 ST</td>\n",
       "      <td>-35.0</td>\n",
       "    </tr>\n",
       "    <tr>\n",
       "      <th>196468</th>\n",
       "      <td>R646</td>\n",
       "      <td>R110</td>\n",
       "      <td>01-00-01</td>\n",
       "      <td>FLATBUSH AV-B.C</td>\n",
       "      <td>2018-11-24</td>\n",
       "      <td>04:00:00</td>\n",
       "      <td>1507194731</td>\n",
       "      <td>1314218620</td>\n",
       "      <td>2018-11-24 04:00:00</td>\n",
       "      <td>Saturday</td>\n",
       "      <td>R646-R110-01-00-01-FLATBUSH AV-B.C</td>\n",
       "      <td>-4.0</td>\n",
       "    </tr>\n",
       "    <tr>\n",
       "      <th>54717</th>\n",
       "      <td>N078</td>\n",
       "      <td>R175</td>\n",
       "      <td>01-03-00</td>\n",
       "      <td>14 ST</td>\n",
       "      <td>2018-11-24</td>\n",
       "      <td>04:00:00</td>\n",
       "      <td>2129612445</td>\n",
       "      <td>1156126507</td>\n",
       "      <td>2018-11-24 04:00:00</td>\n",
       "      <td>Saturday</td>\n",
       "      <td>N078-R175-01-03-00-14 ST</td>\n",
       "      <td>-59.0</td>\n",
       "    </tr>\n",
       "    <tr>\n",
       "      <th>25618</th>\n",
       "      <td>D011</td>\n",
       "      <td>R394</td>\n",
       "      <td>01-06-01</td>\n",
       "      <td>BAY PKWY</td>\n",
       "      <td>2018-11-24</td>\n",
       "      <td>04:00:00</td>\n",
       "      <td>775698391</td>\n",
       "      <td>1698253265</td>\n",
       "      <td>2018-11-24 04:00:00</td>\n",
       "      <td>Saturday</td>\n",
       "      <td>D011-R394-01-06-01-BAY PKWY</td>\n",
       "      <td>-7.0</td>\n",
       "    </tr>\n",
       "    <tr>\n",
       "      <th>...</th>\n",
       "      <td>...</td>\n",
       "      <td>...</td>\n",
       "      <td>...</td>\n",
       "      <td>...</td>\n",
       "      <td>...</td>\n",
       "      <td>...</td>\n",
       "      <td>...</td>\n",
       "      <td>...</td>\n",
       "      <td>...</td>\n",
       "      <td>...</td>\n",
       "      <td>...</td>\n",
       "      <td>...</td>\n",
       "    </tr>\n",
       "    <tr>\n",
       "      <th>2541554</th>\n",
       "      <td>N305</td>\n",
       "      <td>R017</td>\n",
       "      <td>01-03-04</td>\n",
       "      <td>LEXINGTON AV/53</td>\n",
       "      <td>2020-12-25</td>\n",
       "      <td>23:00:00</td>\n",
       "      <td>331361063</td>\n",
       "      <td>1596075738</td>\n",
       "      <td>2020-12-25 23:00:00</td>\n",
       "      <td>Friday</td>\n",
       "      <td>N305-R017-01-03-04-LEXINGTON AV/53</td>\n",
       "      <td>-9.0</td>\n",
       "    </tr>\n",
       "    <tr>\n",
       "      <th>2600573</th>\n",
       "      <td>R127</td>\n",
       "      <td>R105</td>\n",
       "      <td>00-00-00</td>\n",
       "      <td>14 ST</td>\n",
       "      <td>2020-12-25</td>\n",
       "      <td>23:00:00</td>\n",
       "      <td>1224845264</td>\n",
       "      <td>1510386756</td>\n",
       "      <td>2020-12-25 23:00:00</td>\n",
       "      <td>Friday</td>\n",
       "      <td>R127-R105-00-00-00-14 ST</td>\n",
       "      <td>-42.0</td>\n",
       "    </tr>\n",
       "    <tr>\n",
       "      <th>2538116</th>\n",
       "      <td>N215</td>\n",
       "      <td>R237</td>\n",
       "      <td>00-00-02</td>\n",
       "      <td>182-183 STS</td>\n",
       "      <td>2020-12-25</td>\n",
       "      <td>23:00:00</td>\n",
       "      <td>1475326207</td>\n",
       "      <td>1845900164</td>\n",
       "      <td>2020-12-25 23:00:00</td>\n",
       "      <td>Friday</td>\n",
       "      <td>N215-R237-00-00-02-182-183 STS</td>\n",
       "      <td>-47.0</td>\n",
       "    </tr>\n",
       "    <tr>\n",
       "      <th>2536679</th>\n",
       "      <td>N207</td>\n",
       "      <td>R104</td>\n",
       "      <td>00-00-00</td>\n",
       "      <td>167 ST</td>\n",
       "      <td>2020-12-25</td>\n",
       "      <td>23:00:00</td>\n",
       "      <td>1828025230</td>\n",
       "      <td>1829310662</td>\n",
       "      <td>2020-12-25 23:00:00</td>\n",
       "      <td>Friday</td>\n",
       "      <td>N207-R104-00-00-00-167 ST</td>\n",
       "      <td>-50.0</td>\n",
       "    </tr>\n",
       "    <tr>\n",
       "      <th>2535881</th>\n",
       "      <td>N203</td>\n",
       "      <td>R195</td>\n",
       "      <td>00-00-01</td>\n",
       "      <td>161/YANKEE STAD</td>\n",
       "      <td>2020-12-25</td>\n",
       "      <td>23:22:00</td>\n",
       "      <td>1398901534</td>\n",
       "      <td>1094151081</td>\n",
       "      <td>2020-12-25 23:22:00</td>\n",
       "      <td>Friday</td>\n",
       "      <td>N203-R195-00-00-01-161/YANKEE STAD</td>\n",
       "      <td>-35.0</td>\n",
       "    </tr>\n",
       "  </tbody>\n",
       "</table>\n",
       "<p>23496 rows × 12 columns</p>\n",
       "</div>"
      ],
      "text/plain": [
       "          c/a  unit       scp          station       date      time  \\\n",
       "165505   R304  R206  00-00-00           125 ST 2018-11-24  04:00:00   \n",
       "151092   R227  R131  00-00-00            23 ST 2018-11-24  04:00:00   \n",
       "196468   R646  R110  01-00-01  FLATBUSH AV-B.C 2018-11-24  04:00:00   \n",
       "54717    N078  R175  01-03-00            14 ST 2018-11-24  04:00:00   \n",
       "25618    D011  R394  01-06-01         BAY PKWY 2018-11-24  04:00:00   \n",
       "...       ...   ...       ...              ...        ...       ...   \n",
       "2541554  N305  R017  01-03-04  LEXINGTON AV/53 2020-12-25  23:00:00   \n",
       "2600573  R127  R105  00-00-00            14 ST 2020-12-25  23:00:00   \n",
       "2538116  N215  R237  00-00-02      182-183 STS 2020-12-25  23:00:00   \n",
       "2536679  N207  R104  00-00-00           167 ST 2020-12-25  23:00:00   \n",
       "2535881  N203  R195  00-00-01  161/YANKEE STAD 2020-12-25  23:22:00   \n",
       "\n",
       "            entries       exits            datetime   dayname  \\\n",
       "165505   1691635476   789296721 2018-11-24 04:00:00  Saturday   \n",
       "151092    920259537   886527620 2018-11-24 04:00:00  Saturday   \n",
       "196468   1507194731  1314218620 2018-11-24 04:00:00  Saturday   \n",
       "54717    2129612445  1156126507 2018-11-24 04:00:00  Saturday   \n",
       "25618     775698391  1698253265 2018-11-24 04:00:00  Saturday   \n",
       "...             ...         ...                 ...       ...   \n",
       "2541554   331361063  1596075738 2020-12-25 23:00:00    Friday   \n",
       "2600573  1224845264  1510386756 2020-12-25 23:00:00    Friday   \n",
       "2538116  1475326207  1845900164 2020-12-25 23:00:00    Friday   \n",
       "2536679  1828025230  1829310662 2020-12-25 23:00:00    Friday   \n",
       "2535881  1398901534  1094151081 2020-12-25 23:22:00    Friday   \n",
       "\n",
       "                                  turnstile  counts  \n",
       "165505            R304-R206-00-00-00-125 ST   -27.0  \n",
       "151092             R227-R131-00-00-00-23 ST   -35.0  \n",
       "196468   R646-R110-01-00-01-FLATBUSH AV-B.C    -4.0  \n",
       "54717              N078-R175-01-03-00-14 ST   -59.0  \n",
       "25618           D011-R394-01-06-01-BAY PKWY    -7.0  \n",
       "...                                     ...     ...  \n",
       "2541554  N305-R017-01-03-04-LEXINGTON AV/53    -9.0  \n",
       "2600573            R127-R105-00-00-00-14 ST   -42.0  \n",
       "2538116      N215-R237-00-00-02-182-183 STS   -47.0  \n",
       "2536679           N207-R104-00-00-00-167 ST   -50.0  \n",
       "2535881  N203-R195-00-00-01-161/YANKEE STAD   -35.0  \n",
       "\n",
       "[23496 rows x 12 columns]"
      ]
     },
     "execution_count": 31,
     "metadata": {},
     "output_type": "execute_result"
    }
   ],
   "source": [
    "mta[mta.counts < 0]"
   ]
  },
  {
   "cell_type": "code",
   "execution_count": 32,
   "metadata": {},
   "outputs": [],
   "source": [
    "#bazı satırları kontrol edelim:"
   ]
  },
  {
   "cell_type": "code",
   "execution_count": 33,
   "metadata": {
    "scrolled": false
   },
   "outputs": [
    {
     "data": {
      "text/html": [
       "<div>\n",
       "<style scoped>\n",
       "    .dataframe tbody tr th:only-of-type {\n",
       "        vertical-align: middle;\n",
       "    }\n",
       "\n",
       "    .dataframe tbody tr th {\n",
       "        vertical-align: top;\n",
       "    }\n",
       "\n",
       "    .dataframe thead th {\n",
       "        text-align: right;\n",
       "    }\n",
       "</style>\n",
       "<table border=\"1\" class=\"dataframe\">\n",
       "  <thead>\n",
       "    <tr style=\"text-align: right;\">\n",
       "      <th></th>\n",
       "      <th>c/a</th>\n",
       "      <th>unit</th>\n",
       "      <th>scp</th>\n",
       "      <th>station</th>\n",
       "      <th>date</th>\n",
       "      <th>time</th>\n",
       "      <th>entries</th>\n",
       "      <th>exits</th>\n",
       "      <th>datetime</th>\n",
       "      <th>dayname</th>\n",
       "      <th>turnstile</th>\n",
       "      <th>counts</th>\n",
       "    </tr>\n",
       "  </thead>\n",
       "  <tbody>\n",
       "    <tr>\n",
       "      <th>1415465</th>\n",
       "      <td>A002</td>\n",
       "      <td>R051</td>\n",
       "      <td>02-05-00</td>\n",
       "      <td>59 ST</td>\n",
       "      <td>2019-12-17</td>\n",
       "      <td>11:00:00</td>\n",
       "      <td>212</td>\n",
       "      <td>0</td>\n",
       "      <td>2019-12-17 11:00:00</td>\n",
       "      <td>Tuesday</td>\n",
       "      <td>A002-R051-02-05-00-59 ST</td>\n",
       "      <td>1.0</td>\n",
       "    </tr>\n",
       "  </tbody>\n",
       "</table>\n",
       "</div>"
      ],
      "text/plain": [
       "          c/a  unit       scp station       date      time  entries  exits  \\\n",
       "1415465  A002  R051  02-05-00   59 ST 2019-12-17  11:00:00      212      0   \n",
       "\n",
       "                   datetime  dayname                 turnstile  counts  \n",
       "1415465 2019-12-17 11:00:00  Tuesday  A002-R051-02-05-00-59 ST     1.0  "
      ]
     },
     "execution_count": 33,
     "metadata": {},
     "output_type": "execute_result"
    }
   ],
   "source": [
    "mta[mta.index == 1415465]"
   ]
  },
  {
   "cell_type": "code",
   "execution_count": 34,
   "metadata": {
    "scrolled": false
   },
   "outputs": [
    {
     "data": {
      "text/html": [
       "<div>\n",
       "<style scoped>\n",
       "    .dataframe tbody tr th:only-of-type {\n",
       "        vertical-align: middle;\n",
       "    }\n",
       "\n",
       "    .dataframe tbody tr th {\n",
       "        vertical-align: top;\n",
       "    }\n",
       "\n",
       "    .dataframe thead th {\n",
       "        text-align: right;\n",
       "    }\n",
       "</style>\n",
       "<table border=\"1\" class=\"dataframe\">\n",
       "  <thead>\n",
       "    <tr style=\"text-align: right;\">\n",
       "      <th></th>\n",
       "      <th>c/a</th>\n",
       "      <th>unit</th>\n",
       "      <th>scp</th>\n",
       "      <th>station</th>\n",
       "      <th>date</th>\n",
       "      <th>time</th>\n",
       "      <th>entries</th>\n",
       "      <th>exits</th>\n",
       "      <th>datetime</th>\n",
       "      <th>dayname</th>\n",
       "      <th>turnstile</th>\n",
       "      <th>counts</th>\n",
       "    </tr>\n",
       "  </thead>\n",
       "  <tbody>\n",
       "    <tr>\n",
       "      <th>1415466</th>\n",
       "      <td>A002</td>\n",
       "      <td>R051</td>\n",
       "      <td>02-05-00</td>\n",
       "      <td>59 ST</td>\n",
       "      <td>2019-12-17</td>\n",
       "      <td>15:00:00</td>\n",
       "      <td>216</td>\n",
       "      <td>0</td>\n",
       "      <td>2019-12-17 15:00:00</td>\n",
       "      <td>Tuesday</td>\n",
       "      <td>A002-R051-02-05-00-59 ST</td>\n",
       "      <td>4.0</td>\n",
       "    </tr>\n",
       "  </tbody>\n",
       "</table>\n",
       "</div>"
      ],
      "text/plain": [
       "          c/a  unit       scp station       date      time  entries  exits  \\\n",
       "1415466  A002  R051  02-05-00   59 ST 2019-12-17  15:00:00      216      0   \n",
       "\n",
       "                   datetime  dayname                 turnstile  counts  \n",
       "1415466 2019-12-17 15:00:00  Tuesday  A002-R051-02-05-00-59 ST     4.0  "
      ]
     },
     "execution_count": 34,
     "metadata": {},
     "output_type": "execute_result"
    }
   ],
   "source": [
    "mta[mta.index == 1415466]"
   ]
  },
  {
   "cell_type": "code",
   "execution_count": 35,
   "metadata": {},
   "outputs": [
    {
     "data": {
      "text/html": [
       "<div>\n",
       "<style scoped>\n",
       "    .dataframe tbody tr th:only-of-type {\n",
       "        vertical-align: middle;\n",
       "    }\n",
       "\n",
       "    .dataframe tbody tr th {\n",
       "        vertical-align: top;\n",
       "    }\n",
       "\n",
       "    .dataframe thead th {\n",
       "        text-align: right;\n",
       "    }\n",
       "</style>\n",
       "<table border=\"1\" class=\"dataframe\">\n",
       "  <thead>\n",
       "    <tr style=\"text-align: right;\">\n",
       "      <th></th>\n",
       "      <th>c/a</th>\n",
       "      <th>unit</th>\n",
       "      <th>scp</th>\n",
       "      <th>station</th>\n",
       "      <th>date</th>\n",
       "      <th>time</th>\n",
       "      <th>entries</th>\n",
       "      <th>exits</th>\n",
       "      <th>datetime</th>\n",
       "      <th>dayname</th>\n",
       "      <th>turnstile</th>\n",
       "      <th>counts</th>\n",
       "    </tr>\n",
       "  </thead>\n",
       "  <tbody>\n",
       "    <tr>\n",
       "      <th>1415467</th>\n",
       "      <td>A002</td>\n",
       "      <td>R051</td>\n",
       "      <td>02-05-00</td>\n",
       "      <td>59 ST</td>\n",
       "      <td>2019-12-18</td>\n",
       "      <td>11:00:00</td>\n",
       "      <td>12</td>\n",
       "      <td>0</td>\n",
       "      <td>2019-12-18 11:00:00</td>\n",
       "      <td>Wednesday</td>\n",
       "      <td>A002-R051-02-05-00-59 ST</td>\n",
       "      <td>-204.0</td>\n",
       "    </tr>\n",
       "  </tbody>\n",
       "</table>\n",
       "</div>"
      ],
      "text/plain": [
       "          c/a  unit       scp station       date      time  entries  exits  \\\n",
       "1415467  A002  R051  02-05-00   59 ST 2019-12-18  11:00:00       12      0   \n",
       "\n",
       "                   datetime    dayname                 turnstile  counts  \n",
       "1415467 2019-12-18 11:00:00  Wednesday  A002-R051-02-05-00-59 ST  -204.0  "
      ]
     },
     "execution_count": 35,
     "metadata": {},
     "output_type": "execute_result"
    }
   ],
   "source": [
    "mta[mta.index == 1415467]"
   ]
  },
  {
   "cell_type": "raw",
   "metadata": {},
   "source": [
    "12-216=-204 aslında bu turnikede 2019-12-18 tarih ve 11:00:00 saatinde 204 kişi geçmiş. O zaman tüm negatiflerin mutlak değerini alırız."
   ]
  },
  {
   "cell_type": "code",
   "execution_count": 36,
   "metadata": {},
   "outputs": [],
   "source": [
    "mta[\"counts\"] = np.where((mta.counts < 0), abs(mta[\"counts\"]), mta[\"counts\"])"
   ]
  },
  {
   "cell_type": "code",
   "execution_count": 37,
   "metadata": {},
   "outputs": [
    {
     "data": {
      "text/plain": [
       "False"
      ]
     },
     "execution_count": 37,
     "metadata": {},
     "output_type": "execute_result"
    }
   ],
   "source": [
    "(mta.counts < 0).any()"
   ]
  },
  {
   "cell_type": "markdown",
   "metadata": {},
   "source": [
    "**Counts of people who exit from each turnstile for determine daily exits**"
   ]
  },
  {
   "cell_type": "code",
   "execution_count": 38,
   "metadata": {},
   "outputs": [],
   "source": [
    "mta[\"counts_exits\"] = mta.groupby([\"turnstile\"])[[\"exits\"]].diff()"
   ]
  },
  {
   "cell_type": "code",
   "execution_count": 39,
   "metadata": {},
   "outputs": [
    {
     "data": {
      "text/plain": [
       "True"
      ]
     },
     "execution_count": 39,
     "metadata": {},
     "output_type": "execute_result"
    }
   ],
   "source": [
    "(mta.counts_exits < 0).any()"
   ]
  },
  {
   "cell_type": "code",
   "execution_count": 40,
   "metadata": {},
   "outputs": [],
   "source": [
    "mta.counts_exits = abs(mta.counts_exits)"
   ]
  },
  {
   "cell_type": "code",
   "execution_count": 41,
   "metadata": {},
   "outputs": [
    {
     "data": {
      "text/plain": [
       "False"
      ]
     },
     "execution_count": 41,
     "metadata": {},
     "output_type": "execute_result"
    }
   ],
   "source": [
    "(mta.counts_exits < 0).any()"
   ]
  },
  {
   "cell_type": "markdown",
   "metadata": {},
   "source": [
    "**Daily total counts of people enter for each turnstile**"
   ]
  },
  {
   "cell_type": "code",
   "execution_count": 42,
   "metadata": {},
   "outputs": [
    {
     "data": {
      "text/html": [
       "<div>\n",
       "<style scoped>\n",
       "    .dataframe tbody tr th:only-of-type {\n",
       "        vertical-align: middle;\n",
       "    }\n",
       "\n",
       "    .dataframe tbody tr th {\n",
       "        vertical-align: top;\n",
       "    }\n",
       "\n",
       "    .dataframe thead th {\n",
       "        text-align: right;\n",
       "    }\n",
       "</style>\n",
       "<table border=\"1\" class=\"dataframe\">\n",
       "  <thead>\n",
       "    <tr style=\"text-align: right;\">\n",
       "      <th></th>\n",
       "      <th></th>\n",
       "      <th></th>\n",
       "      <th></th>\n",
       "      <th>counts</th>\n",
       "    </tr>\n",
       "    <tr>\n",
       "      <th>turnstile</th>\n",
       "      <th>station</th>\n",
       "      <th>date</th>\n",
       "      <th>dayname</th>\n",
       "      <th></th>\n",
       "    </tr>\n",
       "  </thead>\n",
       "  <tbody>\n",
       "    <tr>\n",
       "      <th>TRAM2-R469-00-05-01-RIT-ROOSEVELT</th>\n",
       "      <th>RIT-ROOSEVELT</th>\n",
       "      <th>2020-12-25</th>\n",
       "      <th>Friday</th>\n",
       "      <td>0.000000e+00</td>\n",
       "    </tr>\n",
       "    <tr>\n",
       "      <th rowspan=\"3\" valign=\"top\">R262A-R195-04-00-02-161/YANKEE STAD</th>\n",
       "      <th rowspan=\"3\" valign=\"top\">161/YANKEE STAD</th>\n",
       "      <th>2020-11-30</th>\n",
       "      <th>Monday</th>\n",
       "      <td>0.000000e+00</td>\n",
       "    </tr>\n",
       "    <tr>\n",
       "      <th>2020-11-29</th>\n",
       "      <th>Sunday</th>\n",
       "      <td>0.000000e+00</td>\n",
       "    </tr>\n",
       "    <tr>\n",
       "      <th>2020-11-28</th>\n",
       "      <th>Saturday</th>\n",
       "      <td>0.000000e+00</td>\n",
       "    </tr>\n",
       "    <tr>\n",
       "      <th>N087-R282-01-05-00-SPRING ST</th>\n",
       "      <th>SPRING ST</th>\n",
       "      <th>2018-12-21</th>\n",
       "      <th>Friday</th>\n",
       "      <td>0.000000e+00</td>\n",
       "    </tr>\n",
       "    <tr>\n",
       "      <th>...</th>\n",
       "      <th>...</th>\n",
       "      <th>...</th>\n",
       "      <th>...</th>\n",
       "      <td>...</td>\n",
       "    </tr>\n",
       "    <tr>\n",
       "      <th>R329-R362-00-00-00-ALLERTON AV</th>\n",
       "      <th>ALLERTON AV</th>\n",
       "      <th>2019-11-30</th>\n",
       "      <th>Saturday</th>\n",
       "      <td>2.038503e+09</td>\n",
       "    </tr>\n",
       "    <tr>\n",
       "      <th>N534-R220-01-00-02-CARROLL ST</th>\n",
       "      <th>CARROLL ST</th>\n",
       "      <th>2020-11-28</th>\n",
       "      <th>Saturday</th>\n",
       "      <td>2.038664e+09</td>\n",
       "    </tr>\n",
       "    <tr>\n",
       "      <th>R329-R362-00-00-00-ALLERTON AV</th>\n",
       "      <th>ALLERTON AV</th>\n",
       "      <th>2019-12-11</th>\n",
       "      <th>Wednesday</th>\n",
       "      <td>2.046736e+09</td>\n",
       "    </tr>\n",
       "    <tr>\n",
       "      <th>R729-R292-00-00-02-BAYCHESTER AV</th>\n",
       "      <th>BAYCHESTER AV</th>\n",
       "      <th>2019-11-30</th>\n",
       "      <th>Saturday</th>\n",
       "      <td>2.055864e+09</td>\n",
       "    </tr>\n",
       "    <tr>\n",
       "      <th>N078-R175-01-03-00-14 ST</th>\n",
       "      <th>14 ST</th>\n",
       "      <th>2019-11-30</th>\n",
       "      <th>Saturday</th>\n",
       "      <td>2.129491e+09</td>\n",
       "    </tr>\n",
       "  </tbody>\n",
       "</table>\n",
       "<p>443003 rows × 1 columns</p>\n",
       "</div>"
      ],
      "text/plain": [
       "                                                                                counts\n",
       "turnstile                           station         date       dayname                \n",
       "TRAM2-R469-00-05-01-RIT-ROOSEVELT   RIT-ROOSEVELT   2020-12-25 Friday     0.000000e+00\n",
       "R262A-R195-04-00-02-161/YANKEE STAD 161/YANKEE STAD 2020-11-30 Monday     0.000000e+00\n",
       "                                                    2020-11-29 Sunday     0.000000e+00\n",
       "                                                    2020-11-28 Saturday   0.000000e+00\n",
       "N087-R282-01-05-00-SPRING ST        SPRING ST       2018-12-21 Friday     0.000000e+00\n",
       "...                                                                                ...\n",
       "R329-R362-00-00-00-ALLERTON AV      ALLERTON AV     2019-11-30 Saturday   2.038503e+09\n",
       "N534-R220-01-00-02-CARROLL ST       CARROLL ST      2020-11-28 Saturday   2.038664e+09\n",
       "R329-R362-00-00-00-ALLERTON AV      ALLERTON AV     2019-12-11 Wednesday  2.046736e+09\n",
       "R729-R292-00-00-02-BAYCHESTER AV    BAYCHESTER AV   2019-11-30 Saturday   2.055864e+09\n",
       "N078-R175-01-03-00-14 ST            14 ST           2019-11-30 Saturday   2.129491e+09\n",
       "\n",
       "[443003 rows x 1 columns]"
      ]
     },
     "execution_count": 42,
     "metadata": {},
     "output_type": "execute_result"
    }
   ],
   "source": [
    "mta.groupby([\"turnstile\",\"station\",\"date\", \"dayname\"])[[\"counts\"]].sum().sort_values(\"counts\") # shows daily total entries for each turnstile"
   ]
  },
  {
   "cell_type": "code",
   "execution_count": 43,
   "metadata": {},
   "outputs": [
    {
     "data": {
      "text/plain": [
       "406272"
      ]
     },
     "execution_count": 43,
     "metadata": {},
     "output_type": "execute_result"
    }
   ],
   "source": [
    "(mta.counts_exits == 0).sum()\n",
    "# 0 larla sonra ilgilen"
   ]
  },
  {
   "cell_type": "code",
   "execution_count": 44,
   "metadata": {},
   "outputs": [
    {
     "data": {
      "text/plain": [
       "448353"
      ]
     },
     "execution_count": 44,
     "metadata": {},
     "output_type": "execute_result"
    }
   ],
   "source": [
    "(mta.counts == 0).sum()\n",
    "# 0 larla sonra ilgilen"
   ]
  },
  {
   "cell_type": "code",
   "execution_count": 45,
   "metadata": {},
   "outputs": [],
   "source": [
    "entries_count = mta.groupby([\"turnstile\", \"station\",\"date\", \"dayname\"], as_index=False)[[\"counts\"]].sum().sort_values(\"counts\")\n",
    "# a new dataset contains daily total entries for each turnstile"
   ]
  },
  {
   "cell_type": "code",
   "execution_count": 46,
   "metadata": {},
   "outputs": [
    {
     "data": {
      "text/html": [
       "<div>\n",
       "<style scoped>\n",
       "    .dataframe tbody tr th:only-of-type {\n",
       "        vertical-align: middle;\n",
       "    }\n",
       "\n",
       "    .dataframe tbody tr th {\n",
       "        vertical-align: top;\n",
       "    }\n",
       "\n",
       "    .dataframe thead th {\n",
       "        text-align: right;\n",
       "    }\n",
       "</style>\n",
       "<table border=\"1\" class=\"dataframe\">\n",
       "  <thead>\n",
       "    <tr style=\"text-align: right;\">\n",
       "      <th></th>\n",
       "      <th>turnstile</th>\n",
       "      <th>station</th>\n",
       "      <th>date</th>\n",
       "      <th>dayname</th>\n",
       "      <th>counts</th>\n",
       "    </tr>\n",
       "  </thead>\n",
       "  <tbody>\n",
       "    <tr>\n",
       "      <th>124975</th>\n",
       "      <td>N087-R282-01-05-00-SPRING ST</td>\n",
       "      <td>SPRING ST</td>\n",
       "      <td>2019-12-13</td>\n",
       "      <td>Friday</td>\n",
       "      <td>0.0</td>\n",
       "    </tr>\n",
       "    <tr>\n",
       "      <th>236408</th>\n",
       "      <td>N601A-R319-01-05-00-LEXINGTON AV/63</td>\n",
       "      <td>LEXINGTON AV/63</td>\n",
       "      <td>2019-12-03</td>\n",
       "      <td>Tuesday</td>\n",
       "      <td>0.0</td>\n",
       "    </tr>\n",
       "    <tr>\n",
       "      <th>124973</th>\n",
       "      <td>N087-R282-01-05-00-SPRING ST</td>\n",
       "      <td>SPRING ST</td>\n",
       "      <td>2019-12-11</td>\n",
       "      <td>Wednesday</td>\n",
       "      <td>0.0</td>\n",
       "    </tr>\n",
       "    <tr>\n",
       "      <th>124972</th>\n",
       "      <td>N087-R282-01-05-00-SPRING ST</td>\n",
       "      <td>SPRING ST</td>\n",
       "      <td>2019-12-10</td>\n",
       "      <td>Tuesday</td>\n",
       "      <td>0.0</td>\n",
       "    </tr>\n",
       "    <tr>\n",
       "      <th>124971</th>\n",
       "      <td>N087-R282-01-05-00-SPRING ST</td>\n",
       "      <td>SPRING ST</td>\n",
       "      <td>2019-12-09</td>\n",
       "      <td>Monday</td>\n",
       "      <td>0.0</td>\n",
       "    </tr>\n",
       "    <tr>\n",
       "      <th>124970</th>\n",
       "      <td>N087-R282-01-05-00-SPRING ST</td>\n",
       "      <td>SPRING ST</td>\n",
       "      <td>2019-12-08</td>\n",
       "      <td>Sunday</td>\n",
       "      <td>0.0</td>\n",
       "    </tr>\n",
       "    <tr>\n",
       "      <th>124969</th>\n",
       "      <td>N087-R282-01-05-00-SPRING ST</td>\n",
       "      <td>SPRING ST</td>\n",
       "      <td>2019-12-07</td>\n",
       "      <td>Saturday</td>\n",
       "      <td>0.0</td>\n",
       "    </tr>\n",
       "    <tr>\n",
       "      <th>124968</th>\n",
       "      <td>N087-R282-01-05-00-SPRING ST</td>\n",
       "      <td>SPRING ST</td>\n",
       "      <td>2019-12-06</td>\n",
       "      <td>Friday</td>\n",
       "      <td>0.0</td>\n",
       "    </tr>\n",
       "    <tr>\n",
       "      <th>124967</th>\n",
       "      <td>N087-R282-01-05-00-SPRING ST</td>\n",
       "      <td>SPRING ST</td>\n",
       "      <td>2019-12-05</td>\n",
       "      <td>Thursday</td>\n",
       "      <td>0.0</td>\n",
       "    </tr>\n",
       "    <tr>\n",
       "      <th>124966</th>\n",
       "      <td>N087-R282-01-05-00-SPRING ST</td>\n",
       "      <td>SPRING ST</td>\n",
       "      <td>2019-12-04</td>\n",
       "      <td>Wednesday</td>\n",
       "      <td>0.0</td>\n",
       "    </tr>\n",
       "    <tr>\n",
       "      <th>124965</th>\n",
       "      <td>N087-R282-01-05-00-SPRING ST</td>\n",
       "      <td>SPRING ST</td>\n",
       "      <td>2019-12-03</td>\n",
       "      <td>Tuesday</td>\n",
       "      <td>0.0</td>\n",
       "    </tr>\n",
       "    <tr>\n",
       "      <th>124964</th>\n",
       "      <td>N087-R282-01-05-00-SPRING ST</td>\n",
       "      <td>SPRING ST</td>\n",
       "      <td>2019-12-02</td>\n",
       "      <td>Monday</td>\n",
       "      <td>0.0</td>\n",
       "    </tr>\n",
       "    <tr>\n",
       "      <th>124963</th>\n",
       "      <td>N087-R282-01-05-00-SPRING ST</td>\n",
       "      <td>SPRING ST</td>\n",
       "      <td>2019-12-01</td>\n",
       "      <td>Sunday</td>\n",
       "      <td>0.0</td>\n",
       "    </tr>\n",
       "    <tr>\n",
       "      <th>124961</th>\n",
       "      <td>N087-R282-01-05-00-SPRING ST</td>\n",
       "      <td>SPRING ST</td>\n",
       "      <td>2018-12-28</td>\n",
       "      <td>Friday</td>\n",
       "      <td>0.0</td>\n",
       "    </tr>\n",
       "    <tr>\n",
       "      <th>361815</th>\n",
       "      <td>R262A-R195-04-00-03-161/YANKEE STAD</td>\n",
       "      <td>161/YANKEE STAD</td>\n",
       "      <td>2018-12-11</td>\n",
       "      <td>Tuesday</td>\n",
       "      <td>0.0</td>\n",
       "    </tr>\n",
       "    <tr>\n",
       "      <th>361816</th>\n",
       "      <td>R262A-R195-04-00-03-161/YANKEE STAD</td>\n",
       "      <td>161/YANKEE STAD</td>\n",
       "      <td>2018-12-12</td>\n",
       "      <td>Wednesday</td>\n",
       "      <td>0.0</td>\n",
       "    </tr>\n",
       "    <tr>\n",
       "      <th>361817</th>\n",
       "      <td>R262A-R195-04-00-03-161/YANKEE STAD</td>\n",
       "      <td>161/YANKEE STAD</td>\n",
       "      <td>2018-12-13</td>\n",
       "      <td>Thursday</td>\n",
       "      <td>0.0</td>\n",
       "    </tr>\n",
       "    <tr>\n",
       "      <th>361818</th>\n",
       "      <td>R262A-R195-04-00-03-161/YANKEE STAD</td>\n",
       "      <td>161/YANKEE STAD</td>\n",
       "      <td>2018-12-14</td>\n",
       "      <td>Friday</td>\n",
       "      <td>0.0</td>\n",
       "    </tr>\n",
       "    <tr>\n",
       "      <th>361846</th>\n",
       "      <td>R262A-R195-04-00-03-161/YANKEE STAD</td>\n",
       "      <td>161/YANKEE STAD</td>\n",
       "      <td>2019-12-13</td>\n",
       "      <td>Friday</td>\n",
       "      <td>0.0</td>\n",
       "    </tr>\n",
       "    <tr>\n",
       "      <th>361845</th>\n",
       "      <td>R262A-R195-04-00-03-161/YANKEE STAD</td>\n",
       "      <td>161/YANKEE STAD</td>\n",
       "      <td>2019-12-12</td>\n",
       "      <td>Thursday</td>\n",
       "      <td>0.0</td>\n",
       "    </tr>\n",
       "  </tbody>\n",
       "</table>\n",
       "</div>"
      ],
      "text/plain": [
       "                                  turnstile          station       date  \\\n",
       "124975         N087-R282-01-05-00-SPRING ST        SPRING ST 2019-12-13   \n",
       "236408  N601A-R319-01-05-00-LEXINGTON AV/63  LEXINGTON AV/63 2019-12-03   \n",
       "124973         N087-R282-01-05-00-SPRING ST        SPRING ST 2019-12-11   \n",
       "124972         N087-R282-01-05-00-SPRING ST        SPRING ST 2019-12-10   \n",
       "124971         N087-R282-01-05-00-SPRING ST        SPRING ST 2019-12-09   \n",
       "124970         N087-R282-01-05-00-SPRING ST        SPRING ST 2019-12-08   \n",
       "124969         N087-R282-01-05-00-SPRING ST        SPRING ST 2019-12-07   \n",
       "124968         N087-R282-01-05-00-SPRING ST        SPRING ST 2019-12-06   \n",
       "124967         N087-R282-01-05-00-SPRING ST        SPRING ST 2019-12-05   \n",
       "124966         N087-R282-01-05-00-SPRING ST        SPRING ST 2019-12-04   \n",
       "124965         N087-R282-01-05-00-SPRING ST        SPRING ST 2019-12-03   \n",
       "124964         N087-R282-01-05-00-SPRING ST        SPRING ST 2019-12-02   \n",
       "124963         N087-R282-01-05-00-SPRING ST        SPRING ST 2019-12-01   \n",
       "124961         N087-R282-01-05-00-SPRING ST        SPRING ST 2018-12-28   \n",
       "361815  R262A-R195-04-00-03-161/YANKEE STAD  161/YANKEE STAD 2018-12-11   \n",
       "361816  R262A-R195-04-00-03-161/YANKEE STAD  161/YANKEE STAD 2018-12-12   \n",
       "361817  R262A-R195-04-00-03-161/YANKEE STAD  161/YANKEE STAD 2018-12-13   \n",
       "361818  R262A-R195-04-00-03-161/YANKEE STAD  161/YANKEE STAD 2018-12-14   \n",
       "361846  R262A-R195-04-00-03-161/YANKEE STAD  161/YANKEE STAD 2019-12-13   \n",
       "361845  R262A-R195-04-00-03-161/YANKEE STAD  161/YANKEE STAD 2019-12-12   \n",
       "\n",
       "          dayname  counts  \n",
       "124975     Friday     0.0  \n",
       "236408    Tuesday     0.0  \n",
       "124973  Wednesday     0.0  \n",
       "124972    Tuesday     0.0  \n",
       "124971     Monday     0.0  \n",
       "124970     Sunday     0.0  \n",
       "124969   Saturday     0.0  \n",
       "124968     Friday     0.0  \n",
       "124967   Thursday     0.0  \n",
       "124966  Wednesday     0.0  \n",
       "124965    Tuesday     0.0  \n",
       "124964     Monday     0.0  \n",
       "124963     Sunday     0.0  \n",
       "124961     Friday     0.0  \n",
       "361815    Tuesday     0.0  \n",
       "361816  Wednesday     0.0  \n",
       "361817   Thursday     0.0  \n",
       "361818     Friday     0.0  \n",
       "361846     Friday     0.0  \n",
       "361845   Thursday     0.0  "
      ]
     },
     "execution_count": 46,
     "metadata": {},
     "output_type": "execute_result"
    }
   ],
   "source": [
    "entries_count.iloc[200:220, :]"
   ]
  },
  {
   "cell_type": "code",
   "execution_count": 47,
   "metadata": {},
   "outputs": [
    {
     "data": {
      "text/html": [
       "<div>\n",
       "<style scoped>\n",
       "    .dataframe tbody tr th:only-of-type {\n",
       "        vertical-align: middle;\n",
       "    }\n",
       "\n",
       "    .dataframe tbody tr th {\n",
       "        vertical-align: top;\n",
       "    }\n",
       "\n",
       "    .dataframe thead th {\n",
       "        text-align: right;\n",
       "    }\n",
       "</style>\n",
       "<table border=\"1\" class=\"dataframe\">\n",
       "  <thead>\n",
       "    <tr style=\"text-align: right;\">\n",
       "      <th></th>\n",
       "      <th>counts</th>\n",
       "    </tr>\n",
       "  </thead>\n",
       "  <tbody>\n",
       "    <tr>\n",
       "      <th>count</th>\n",
       "      <td>4.430030e+05</td>\n",
       "    </tr>\n",
       "    <tr>\n",
       "      <th>mean</th>\n",
       "      <td>2.930018e+05</td>\n",
       "    </tr>\n",
       "    <tr>\n",
       "      <th>std</th>\n",
       "      <td>1.854729e+07</td>\n",
       "    </tr>\n",
       "    <tr>\n",
       "      <th>min</th>\n",
       "      <td>0.000000e+00</td>\n",
       "    </tr>\n",
       "    <tr>\n",
       "      <th>25%</th>\n",
       "      <td>1.240000e+02</td>\n",
       "    </tr>\n",
       "    <tr>\n",
       "      <th>50%</th>\n",
       "      <td>4.860000e+02</td>\n",
       "    </tr>\n",
       "    <tr>\n",
       "      <th>75%</th>\n",
       "      <td>1.204000e+03</td>\n",
       "    </tr>\n",
       "    <tr>\n",
       "      <th>max</th>\n",
       "      <td>2.129491e+09</td>\n",
       "    </tr>\n",
       "  </tbody>\n",
       "</table>\n",
       "</div>"
      ],
      "text/plain": [
       "             counts\n",
       "count  4.430030e+05\n",
       "mean   2.930018e+05\n",
       "std    1.854729e+07\n",
       "min    0.000000e+00\n",
       "25%    1.240000e+02\n",
       "50%    4.860000e+02\n",
       "75%    1.204000e+03\n",
       "max    2.129491e+09"
      ]
     },
     "execution_count": 47,
     "metadata": {},
     "output_type": "execute_result"
    }
   ],
   "source": [
    "entries_count.describe()"
   ]
  },
  {
   "cell_type": "code",
   "execution_count": 48,
   "metadata": {},
   "outputs": [
    {
     "data": {
      "image/png": "[encoded data removed]",
      "text/plain": [
       "<Figure size 1080x504 with 1 Axes>"
      ]
     },
     "metadata": {
      "needs_background": "light"
     },
     "output_type": "display_data"
    }
   ],
   "source": [
    "plt.figure(figsize=[15,7])\n",
    "plt.hist(entries_count.counts);"
   ]
  },
  {
   "cell_type": "code",
   "execution_count": 49,
   "metadata": {},
   "outputs": [
    {
     "data": {
      "image/png": "[encoded data removed]",
      "text/plain": [
       "<Figure size 1440x360 with 1 Axes>"
      ]
     },
     "metadata": {
      "needs_background": "light"
     },
     "output_type": "display_data"
    }
   ],
   "source": [
    "plt.figure(figsize = (20,5))\n",
    "plt.boxplot(entries_count.counts, vert=False);"
   ]
  },
  {
   "cell_type": "code",
   "execution_count": 50,
   "metadata": {},
   "outputs": [
    {
     "data": {
      "text/plain": [
       "0.75    1204.00\n",
       "0.80    1444.00\n",
       "0.85    1761.00\n",
       "0.90    2199.00\n",
       "0.95    3058.00\n",
       "0.97    4036.00\n",
       "0.98    8304.84\n",
       "Name: counts, dtype: float64"
      ]
     },
     "execution_count": 50,
     "metadata": {},
     "output_type": "execute_result"
    }
   ],
   "source": [
    "entries_count.counts.quantile([0.75, 0.80, 0.85, 0.90, 0.95, 0.97, 0.98])"
   ]
  },
  {
   "cell_type": "code",
   "execution_count": 51,
   "metadata": {},
   "outputs": [
    {
     "name": "stderr",
     "output_type": "stream",
     "text": [
      "C:\\Users\\dilat\\Anaconda3\\lib\\site-packages\\seaborn\\distributions.py:2551: FutureWarning: `distplot` is a deprecated function and will be removed in a future version. Please adapt your code to use either `displot` (a figure-level function with similar flexibility) or `histplot` (an axes-level function for histograms).\n",
      "  warnings.warn(msg, FutureWarning)\n"
     ]
    },
    {
     "data": {
      "image/png": "[encoded data removed]",
      "text/plain": [
       "<Figure size 432x288 with 1 Axes>"
      ]
     },
     "metadata": {
      "needs_background": "light"
     },
     "output_type": "display_data"
    }
   ],
   "source": [
    "verix = entries_count[entries_count[\"counts\"]<(entries_count.counts.quantile(0.85))]\n",
    "ax=sns.distplot(verix[\"counts\"])"
   ]
  },
  {
   "cell_type": "code",
   "execution_count": 52,
   "metadata": {},
   "outputs": [],
   "source": [
    "entries_count[\"counts\"] = np.where((entries_count.counts > entries_count.counts.quantile(0.85)), entries_count.counts.median(), entries_count.counts)"
   ]
  },
  {
   "cell_type": "code",
   "execution_count": 53,
   "metadata": {},
   "outputs": [
    {
     "data": {
      "text/plain": [
       "count    443003.000000\n",
       "mean        496.744819\n",
       "std         443.203770\n",
       "min           0.000000\n",
       "25%         124.000000\n",
       "50%         486.000000\n",
       "75%         704.000000\n",
       "max        1761.000000\n",
       "Name: counts, dtype: float64"
      ]
     },
     "execution_count": 53,
     "metadata": {},
     "output_type": "execute_result"
    }
   ],
   "source": [
    "entries_count[\"counts\"].describe()"
   ]
  },
  {
   "cell_type": "code",
   "execution_count": 54,
   "metadata": {},
   "outputs": [
    {
     "data": {
      "text/html": [
       "<div>\n",
       "<style scoped>\n",
       "    .dataframe tbody tr th:only-of-type {\n",
       "        vertical-align: middle;\n",
       "    }\n",
       "\n",
       "    .dataframe tbody tr th {\n",
       "        vertical-align: top;\n",
       "    }\n",
       "\n",
       "    .dataframe thead th {\n",
       "        text-align: right;\n",
       "    }\n",
       "</style>\n",
       "<table border=\"1\" class=\"dataframe\">\n",
       "  <thead>\n",
       "    <tr style=\"text-align: right;\">\n",
       "      <th></th>\n",
       "      <th>turnstile</th>\n",
       "      <th>station</th>\n",
       "      <th>date</th>\n",
       "      <th>dayname</th>\n",
       "      <th>counts</th>\n",
       "    </tr>\n",
       "  </thead>\n",
       "  <tbody>\n",
       "    <tr>\n",
       "      <th>253842</th>\n",
       "      <td>PTH05-R543-00-00-03-EXCHANGE PLACE</td>\n",
       "      <td>EXCHANGE PLACE</td>\n",
       "      <td>2019-12-13</td>\n",
       "      <td>Friday</td>\n",
       "      <td>1761.0</td>\n",
       "    </tr>\n",
       "    <tr>\n",
       "      <th>33227</th>\n",
       "      <td>B019-R149-00-00-02-NEWKIRK PLAZA</td>\n",
       "      <td>NEWKIRK PLAZA</td>\n",
       "      <td>2019-12-02</td>\n",
       "      <td>Monday</td>\n",
       "      <td>1761.0</td>\n",
       "    </tr>\n",
       "    <tr>\n",
       "      <th>111776</th>\n",
       "      <td>N062-R011-01-03-00-42 ST-PORT AUTH</td>\n",
       "      <td>42 ST-PORT AUTH</td>\n",
       "      <td>2019-12-06</td>\n",
       "      <td>Friday</td>\n",
       "      <td>1761.0</td>\n",
       "    </tr>\n",
       "    <tr>\n",
       "      <th>355730</th>\n",
       "      <td>R250-R179-00-00-06-86 ST</td>\n",
       "      <td>86 ST</td>\n",
       "      <td>2018-12-19</td>\n",
       "      <td>Wednesday</td>\n",
       "      <td>1761.0</td>\n",
       "    </tr>\n",
       "    <tr>\n",
       "      <th>23555</th>\n",
       "      <td>A060-R001-00-00-01-WHITEHALL S-FRY</td>\n",
       "      <td>WHITEHALL S-FRY</td>\n",
       "      <td>2019-12-21</td>\n",
       "      <td>Saturday</td>\n",
       "      <td>1761.0</td>\n",
       "    </tr>\n",
       "    <tr>\n",
       "      <th>...</th>\n",
       "      <td>...</td>\n",
       "      <td>...</td>\n",
       "      <td>...</td>\n",
       "      <td>...</td>\n",
       "      <td>...</td>\n",
       "    </tr>\n",
       "    <tr>\n",
       "      <th>422961</th>\n",
       "      <td>R610-R057-00-05-01-ATL AV-BARCLAY</td>\n",
       "      <td>ATL AV-BARCLAY</td>\n",
       "      <td>2018-12-17</td>\n",
       "      <td>Monday</td>\n",
       "      <td>0.0</td>\n",
       "    </tr>\n",
       "    <tr>\n",
       "      <th>422960</th>\n",
       "      <td>R610-R057-00-05-01-ATL AV-BARCLAY</td>\n",
       "      <td>ATL AV-BARCLAY</td>\n",
       "      <td>2018-12-16</td>\n",
       "      <td>Sunday</td>\n",
       "      <td>0.0</td>\n",
       "    </tr>\n",
       "    <tr>\n",
       "      <th>422959</th>\n",
       "      <td>R610-R057-00-05-01-ATL AV-BARCLAY</td>\n",
       "      <td>ATL AV-BARCLAY</td>\n",
       "      <td>2018-12-15</td>\n",
       "      <td>Saturday</td>\n",
       "      <td>0.0</td>\n",
       "    </tr>\n",
       "    <tr>\n",
       "      <th>422958</th>\n",
       "      <td>R610-R057-00-05-01-ATL AV-BARCLAY</td>\n",
       "      <td>ATL AV-BARCLAY</td>\n",
       "      <td>2018-12-14</td>\n",
       "      <td>Friday</td>\n",
       "      <td>0.0</td>\n",
       "    </tr>\n",
       "    <tr>\n",
       "      <th>443002</th>\n",
       "      <td>TRAM2-R469-00-05-01-RIT-ROOSEVELT</td>\n",
       "      <td>RIT-ROOSEVELT</td>\n",
       "      <td>2020-12-25</td>\n",
       "      <td>Friday</td>\n",
       "      <td>0.0</td>\n",
       "    </tr>\n",
       "  </tbody>\n",
       "</table>\n",
       "<p>443003 rows × 5 columns</p>\n",
       "</div>"
      ],
      "text/plain": [
       "                                 turnstile          station       date  \\\n",
       "253842  PTH05-R543-00-00-03-EXCHANGE PLACE   EXCHANGE PLACE 2019-12-13   \n",
       "33227     B019-R149-00-00-02-NEWKIRK PLAZA    NEWKIRK PLAZA 2019-12-02   \n",
       "111776  N062-R011-01-03-00-42 ST-PORT AUTH  42 ST-PORT AUTH 2019-12-06   \n",
       "355730            R250-R179-00-00-06-86 ST            86 ST 2018-12-19   \n",
       "23555   A060-R001-00-00-01-WHITEHALL S-FRY  WHITEHALL S-FRY 2019-12-21   \n",
       "...                                    ...              ...        ...   \n",
       "422961   R610-R057-00-05-01-ATL AV-BARCLAY   ATL AV-BARCLAY 2018-12-17   \n",
       "422960   R610-R057-00-05-01-ATL AV-BARCLAY   ATL AV-BARCLAY 2018-12-16   \n",
       "422959   R610-R057-00-05-01-ATL AV-BARCLAY   ATL AV-BARCLAY 2018-12-15   \n",
       "422958   R610-R057-00-05-01-ATL AV-BARCLAY   ATL AV-BARCLAY 2018-12-14   \n",
       "443002   TRAM2-R469-00-05-01-RIT-ROOSEVELT    RIT-ROOSEVELT 2020-12-25   \n",
       "\n",
       "          dayname  counts  \n",
       "253842     Friday  1761.0  \n",
       "33227      Monday  1761.0  \n",
       "111776     Friday  1761.0  \n",
       "355730  Wednesday  1761.0  \n",
       "23555    Saturday  1761.0  \n",
       "...           ...     ...  \n",
       "422961     Monday     0.0  \n",
       "422960     Sunday     0.0  \n",
       "422959   Saturday     0.0  \n",
       "422958     Friday     0.0  \n",
       "443002     Friday     0.0  \n",
       "\n",
       "[443003 rows x 5 columns]"
      ]
     },
     "execution_count": 54,
     "metadata": {},
     "output_type": "execute_result"
    }
   ],
   "source": [
    "entries_count.sort_values(by=[\"counts\"], ascending=False)"
   ]
  },
  {
   "cell_type": "code",
   "execution_count": 55,
   "metadata": {},
   "outputs": [
    {
     "data": {
      "text/html": [
       "<div>\n",
       "<style scoped>\n",
       "    .dataframe tbody tr th:only-of-type {\n",
       "        vertical-align: middle;\n",
       "    }\n",
       "\n",
       "    .dataframe tbody tr th {\n",
       "        vertical-align: top;\n",
       "    }\n",
       "\n",
       "    .dataframe thead th {\n",
       "        text-align: right;\n",
       "    }\n",
       "</style>\n",
       "<table border=\"1\" class=\"dataframe\">\n",
       "  <thead>\n",
       "    <tr style=\"text-align: right;\">\n",
       "      <th></th>\n",
       "      <th>counts</th>\n",
       "    </tr>\n",
       "    <tr>\n",
       "      <th>dayname</th>\n",
       "      <th></th>\n",
       "    </tr>\n",
       "  </thead>\n",
       "  <tbody>\n",
       "    <tr>\n",
       "      <th>Sunday</th>\n",
       "      <td>6315.0</td>\n",
       "    </tr>\n",
       "    <tr>\n",
       "      <th>Saturday</th>\n",
       "      <td>7493.0</td>\n",
       "    </tr>\n",
       "    <tr>\n",
       "      <th>Monday</th>\n",
       "      <td>8167.0</td>\n",
       "    </tr>\n",
       "    <tr>\n",
       "      <th>Tuesday</th>\n",
       "      <td>8422.0</td>\n",
       "    </tr>\n",
       "    <tr>\n",
       "      <th>Thursday</th>\n",
       "      <td>8430.0</td>\n",
       "    </tr>\n",
       "    <tr>\n",
       "      <th>Friday</th>\n",
       "      <td>8907.0</td>\n",
       "    </tr>\n",
       "    <tr>\n",
       "      <th>Wednesday</th>\n",
       "      <td>9026.0</td>\n",
       "    </tr>\n",
       "  </tbody>\n",
       "</table>\n",
       "</div>"
      ],
      "text/plain": [
       "           counts\n",
       "dayname          \n",
       "Sunday     6315.0\n",
       "Saturday   7493.0\n",
       "Monday     8167.0\n",
       "Tuesday    8422.0\n",
       "Thursday   8430.0\n",
       "Friday     8907.0\n",
       "Wednesday  9026.0"
      ]
     },
     "execution_count": 55,
     "metadata": {},
     "output_type": "execute_result"
    }
   ],
   "source": [
    "entries_count[entries_count.turnstile == \"R238A-R046-02-00-02-GRD CNTRL-42 ST\"].groupby(\"dayname\")[[\"counts\"]].sum().sort_values([\"counts\"])"
   ]
  },
  {
   "cell_type": "code",
   "execution_count": 56,
   "metadata": {},
   "outputs": [],
   "source": [
    "veri = entries_count[entries_count.turnstile == \"R238A-R046-02-00-02-GRD CNTRL-42 ST\"].groupby(\"dayname\")[[\"counts\"]].sum().reset_index()"
   ]
  },
  {
   "cell_type": "code",
   "execution_count": 57,
   "metadata": {},
   "outputs": [
    {
     "data": {
      "text/plain": [
       "[<matplotlib.lines.Line2D at 0x270ad730848>]"
      ]
     },
     "execution_count": 57,
     "metadata": {},
     "output_type": "execute_result"
    },
    {
     "data": {
      "image/png": "[encoded data removed]",
      "text/plain": [
       "<Figure size 1080x360 with 1 Axes>"
      ]
     },
     "metadata": {
      "needs_background": "light"
     },
     "output_type": "display_data"
    }
   ],
   "source": [
    "plt.figure(figsize=(15,5))\n",
    "plt.plot(veri.dayname, veri.counts)"
   ]
  },
  {
   "cell_type": "markdown",
   "metadata": {},
   "source": [
    "# top stations by entry:"
   ]
  },
  {
   "cell_type": "code",
   "execution_count": 58,
   "metadata": {},
   "outputs": [],
   "source": [
    "pd.options.display.max_rows=1000"
   ]
  },
  {
   "cell_type": "code",
   "execution_count": 59,
   "metadata": {},
   "outputs": [],
   "source": [
    "pd.set_option('display.float_format', lambda x: '%.2f' % x) # for no scientific notation"
   ]
  },
  {
   "cell_type": "markdown",
   "metadata": {},
   "source": [
    "**Daily total counts of people exit for each turnstile**"
   ]
  },
  {
   "cell_type": "code",
   "execution_count": 60,
   "metadata": {},
   "outputs": [
    {
     "data": {
      "text/html": [
       "<div>\n",
       "<style scoped>\n",
       "    .dataframe tbody tr th:only-of-type {\n",
       "        vertical-align: middle;\n",
       "    }\n",
       "\n",
       "    .dataframe tbody tr th {\n",
       "        vertical-align: top;\n",
       "    }\n",
       "\n",
       "    .dataframe thead th {\n",
       "        text-align: right;\n",
       "    }\n",
       "</style>\n",
       "<table border=\"1\" class=\"dataframe\">\n",
       "  <thead>\n",
       "    <tr style=\"text-align: right;\">\n",
       "      <th></th>\n",
       "      <th></th>\n",
       "      <th></th>\n",
       "      <th></th>\n",
       "      <th>counts_exits</th>\n",
       "    </tr>\n",
       "    <tr>\n",
       "      <th>turnstile</th>\n",
       "      <th>station</th>\n",
       "      <th>date</th>\n",
       "      <th>dayname</th>\n",
       "      <th></th>\n",
       "    </tr>\n",
       "  </thead>\n",
       "  <tbody>\n",
       "    <tr>\n",
       "      <th>TRAM2-R469-00-05-01-RIT-ROOSEVELT</th>\n",
       "      <th>RIT-ROOSEVELT</th>\n",
       "      <th>2020-12-25</th>\n",
       "      <th>Friday</th>\n",
       "      <td>0.00</td>\n",
       "    </tr>\n",
       "    <tr>\n",
       "      <th rowspan=\"4\" valign=\"top\">R262B-R195-05-00-02-161/YANKEE STAD</th>\n",
       "      <th rowspan=\"4\" valign=\"top\">161/YANKEE STAD</th>\n",
       "      <th>2019-12-17</th>\n",
       "      <th>Tuesday</th>\n",
       "      <td>0.00</td>\n",
       "    </tr>\n",
       "    <tr>\n",
       "      <th>2019-12-16</th>\n",
       "      <th>Monday</th>\n",
       "      <td>0.00</td>\n",
       "    </tr>\n",
       "    <tr>\n",
       "      <th>2019-12-15</th>\n",
       "      <th>Sunday</th>\n",
       "      <td>0.00</td>\n",
       "    </tr>\n",
       "    <tr>\n",
       "      <th>2019-12-14</th>\n",
       "      <th>Saturday</th>\n",
       "      <td>0.00</td>\n",
       "    </tr>\n",
       "    <tr>\n",
       "      <th>...</th>\n",
       "      <th>...</th>\n",
       "      <th>...</th>\n",
       "      <th>...</th>\n",
       "      <td>...</td>\n",
       "    </tr>\n",
       "    <tr>\n",
       "      <th>N325A-R218-00-05-01-ELMHURST AV</th>\n",
       "      <th>ELMHURST AV</th>\n",
       "      <th>2020-11-28</th>\n",
       "      <th>Saturday</th>\n",
       "      <td>1973082216.00</td>\n",
       "    </tr>\n",
       "    <tr>\n",
       "      <th>N506-R022-00-05-03-34 ST-HERALD SQ</th>\n",
       "      <th>34 ST-HERALD SQ</th>\n",
       "      <th>2020-11-28</th>\n",
       "      <th>Saturday</th>\n",
       "      <td>2036528840.00</td>\n",
       "    </tr>\n",
       "    <tr>\n",
       "      <th>N506-R022-00-05-04-34 ST-HERALD SQ</th>\n",
       "      <th>34 ST-HERALD SQ</th>\n",
       "      <th>2020-11-28</th>\n",
       "      <th>Saturday</th>\n",
       "      <td>2048631773.00</td>\n",
       "    </tr>\n",
       "    <tr>\n",
       "      <th>R523-R147-00-00-04-61 ST WOODSIDE</th>\n",
       "      <th>61 ST WOODSIDE</th>\n",
       "      <th>2019-11-30</th>\n",
       "      <th>Saturday</th>\n",
       "      <td>2106875652.00</td>\n",
       "    </tr>\n",
       "    <tr>\n",
       "      <th>R107-R305-00-00-02-WTC-CORTLANDT</th>\n",
       "      <th>WTC-CORTLANDT</th>\n",
       "      <th>2019-12-22</th>\n",
       "      <th>Sunday</th>\n",
       "      <td>3690987530.00</td>\n",
       "    </tr>\n",
       "  </tbody>\n",
       "</table>\n",
       "<p>443003 rows × 1 columns</p>\n",
       "</div>"
      ],
      "text/plain": [
       "                                                                         counts_exits\n",
       "turnstile                           station         date       dayname               \n",
       "TRAM2-R469-00-05-01-RIT-ROOSEVELT   RIT-ROOSEVELT   2020-12-25 Friday            0.00\n",
       "R262B-R195-05-00-02-161/YANKEE STAD 161/YANKEE STAD 2019-12-17 Tuesday           0.00\n",
       "                                                    2019-12-16 Monday            0.00\n",
       "                                                    2019-12-15 Sunday            0.00\n",
       "                                                    2019-12-14 Saturday          0.00\n",
       "...                                                                               ...\n",
       "N325A-R218-00-05-01-ELMHURST AV     ELMHURST AV     2020-11-28 Saturday 1973082216.00\n",
       "N506-R022-00-05-03-34 ST-HERALD SQ  34 ST-HERALD SQ 2020-11-28 Saturday 2036528840.00\n",
       "N506-R022-00-05-04-34 ST-HERALD SQ  34 ST-HERALD SQ 2020-11-28 Saturday 2048631773.00\n",
       "R523-R147-00-00-04-61 ST WOODSIDE   61 ST WOODSIDE  2019-11-30 Saturday 2106875652.00\n",
       "R107-R305-00-00-02-WTC-CORTLANDT    WTC-CORTLANDT   2019-12-22 Sunday   3690987530.00\n",
       "\n",
       "[443003 rows x 1 columns]"
      ]
     },
     "execution_count": 60,
     "metadata": {},
     "output_type": "execute_result"
    }
   ],
   "source": [
    "mta.groupby([\"turnstile\",\"station\",\"date\", \"dayname\"])[[\"counts_exits\"]].sum().sort_values(\"counts_exits\") # shows daily total exits for each turnstile"
   ]
  },
  {
   "cell_type": "code",
   "execution_count": 61,
   "metadata": {},
   "outputs": [
    {
     "data": {
      "text/plain": [
       "406272"
      ]
     },
     "execution_count": 61,
     "metadata": {},
     "output_type": "execute_result"
    }
   ],
   "source": [
    "(mta.counts_exits == 0).sum()\n",
    "# 0 larla sonra ilgilen"
   ]
  },
  {
   "cell_type": "code",
   "execution_count": 62,
   "metadata": {},
   "outputs": [],
   "source": [
    "exits_count = mta.groupby([\"turnstile\",\"date\", \"dayname\"], as_index=False)[[\"counts_exits\"]].sum().sort_values(\"counts_exits\")\n",
    "# a new dataset contains daily total exits for each turnstile"
   ]
  },
  {
   "cell_type": "code",
   "execution_count": 63,
   "metadata": {},
   "outputs": [
    {
     "data": {
      "text/html": [
       "<div>\n",
       "<style scoped>\n",
       "    .dataframe tbody tr th:only-of-type {\n",
       "        vertical-align: middle;\n",
       "    }\n",
       "\n",
       "    .dataframe tbody tr th {\n",
       "        vertical-align: top;\n",
       "    }\n",
       "\n",
       "    .dataframe thead th {\n",
       "        text-align: right;\n",
       "    }\n",
       "</style>\n",
       "<table border=\"1\" class=\"dataframe\">\n",
       "  <thead>\n",
       "    <tr style=\"text-align: right;\">\n",
       "      <th></th>\n",
       "      <th>counts_exits</th>\n",
       "    </tr>\n",
       "  </thead>\n",
       "  <tbody>\n",
       "    <tr>\n",
       "      <th>count</th>\n",
       "      <td>443003.00</td>\n",
       "    </tr>\n",
       "    <tr>\n",
       "      <th>mean</th>\n",
       "      <td>265272.34</td>\n",
       "    </tr>\n",
       "    <tr>\n",
       "      <th>std</th>\n",
       "      <td>18157631.08</td>\n",
       "    </tr>\n",
       "    <tr>\n",
       "      <th>min</th>\n",
       "      <td>0.00</td>\n",
       "    </tr>\n",
       "    <tr>\n",
       "      <th>25%</th>\n",
       "      <td>95.00</td>\n",
       "    </tr>\n",
       "    <tr>\n",
       "      <th>50%</th>\n",
       "      <td>355.00</td>\n",
       "    </tr>\n",
       "    <tr>\n",
       "      <th>75%</th>\n",
       "      <td>898.00</td>\n",
       "    </tr>\n",
       "    <tr>\n",
       "      <th>max</th>\n",
       "      <td>3690987530.00</td>\n",
       "    </tr>\n",
       "  </tbody>\n",
       "</table>\n",
       "</div>"
      ],
      "text/plain": [
       "       counts_exits\n",
       "count     443003.00\n",
       "mean      265272.34\n",
       "std     18157631.08\n",
       "min            0.00\n",
       "25%           95.00\n",
       "50%          355.00\n",
       "75%          898.00\n",
       "max   3690987530.00"
      ]
     },
     "execution_count": 63,
     "metadata": {},
     "output_type": "execute_result"
    }
   ],
   "source": [
    "exits_count.describe()"
   ]
  },
  {
   "cell_type": "code",
   "execution_count": 64,
   "metadata": {},
   "outputs": [
    {
     "data": {
      "image/png": "[encoded data removed]",
      "text/plain": [
       "<Figure size 1080x504 with 1 Axes>"
      ]
     },
     "metadata": {
      "needs_background": "light"
     },
     "output_type": "display_data"
    }
   ],
   "source": [
    "plt.figure(figsize=[15,7])\n",
    "plt.hist(exits_count.counts_exits);"
   ]
  },
  {
   "cell_type": "code",
   "execution_count": 65,
   "metadata": {},
   "outputs": [
    {
     "data": {
      "image/png": "[encoded data removed]",
      "text/plain": [
       "<Figure size 1440x360 with 1 Axes>"
      ]
     },
     "metadata": {
      "needs_background": "light"
     },
     "output_type": "display_data"
    }
   ],
   "source": [
    "plt.figure(figsize = (20,5))\n",
    "plt.boxplot(exits_count.counts_exits, vert=False);"
   ]
  },
  {
   "cell_type": "code",
   "execution_count": 66,
   "metadata": {},
   "outputs": [
    {
     "data": {
      "text/plain": [
       "0.75    898.00\n",
       "0.80   1108.00\n",
       "0.85   1391.00\n",
       "0.90   1848.00\n",
       "0.95   2793.00\n",
       "0.97   4001.00\n",
       "0.98   8028.96\n",
       "Name: counts_exits, dtype: float64"
      ]
     },
     "execution_count": 66,
     "metadata": {},
     "output_type": "execute_result"
    }
   ],
   "source": [
    "exits_count.counts_exits.quantile([0.75, 0.80, 0.85, 0.90, 0.95, 0.97, 0.98])"
   ]
  },
  {
   "cell_type": "code",
   "execution_count": 67,
   "metadata": {},
   "outputs": [
    {
     "name": "stderr",
     "output_type": "stream",
     "text": [
      "C:\\Users\\dilat\\Anaconda3\\lib\\site-packages\\seaborn\\distributions.py:2551: FutureWarning: `distplot` is a deprecated function and will be removed in a future version. Please adapt your code to use either `displot` (a figure-level function with similar flexibility) or `histplot` (an axes-level function for histograms).\n",
      "  warnings.warn(msg, FutureWarning)\n"
     ]
    },
    {
     "data": {
      "image/png": "[encoded data removed]",
      "text/plain": [
       "<Figure size 432x288 with 1 Axes>"
      ]
     },
     "metadata": {
      "needs_background": "light"
     },
     "output_type": "display_data"
    }
   ],
   "source": [
    "veriy = exits_count[exits_count[\"counts_exits\"]<(exits_count.counts_exits.quantile(0.80))]\n",
    "ax2=sns.distplot(veriy[\"counts_exits\"])"
   ]
  },
  {
   "cell_type": "code",
   "execution_count": 68,
   "metadata": {},
   "outputs": [],
   "source": [
    "exits_count[\"counts_exits\"] = np.where((exits_count.counts_exits > exits_count.counts_exits.quantile(0.80)), exits_count.counts_exits.median(), exits_count.counts_exits)"
   ]
  },
  {
   "cell_type": "code",
   "execution_count": 69,
   "metadata": {},
   "outputs": [
    {
     "data": {
      "text/plain": [
       "count   443003.00\n",
       "mean       326.68\n",
       "std        271.18\n",
       "min          0.00\n",
       "25%         95.00\n",
       "50%        355.00\n",
       "75%        429.00\n",
       "max       1108.00\n",
       "Name: counts_exits, dtype: float64"
      ]
     },
     "execution_count": 69,
     "metadata": {},
     "output_type": "execute_result"
    }
   ],
   "source": [
    "exits_count[\"counts_exits\"].describe()"
   ]
  },
  {
   "cell_type": "code",
   "execution_count": 70,
   "metadata": {},
   "outputs": [
    {
     "data": {
      "image/png": "[encoded data removed]",
      "text/plain": [
       "<Figure size 1440x360 with 1 Axes>"
      ]
     },
     "metadata": {
      "needs_background": "light"
     },
     "output_type": "display_data"
    }
   ],
   "source": [
    "plt.figure(figsize = (20,5))\n",
    "plt.boxplot(exits_count[\"counts_exits\"], vert=False);"
   ]
  },
  {
   "cell_type": "code",
   "execution_count": 71,
   "metadata": {},
   "outputs": [
    {
     "data": {
      "text/html": [
       "<div>\n",
       "<style scoped>\n",
       "    .dataframe tbody tr th:only-of-type {\n",
       "        vertical-align: middle;\n",
       "    }\n",
       "\n",
       "    .dataframe tbody tr th {\n",
       "        vertical-align: top;\n",
       "    }\n",
       "\n",
       "    .dataframe thead th {\n",
       "        text-align: right;\n",
       "    }\n",
       "</style>\n",
       "<table border=\"1\" class=\"dataframe\">\n",
       "  <thead>\n",
       "    <tr style=\"text-align: right;\">\n",
       "      <th></th>\n",
       "      <th>counts_exits</th>\n",
       "    </tr>\n",
       "    <tr>\n",
       "      <th>dayname</th>\n",
       "      <th></th>\n",
       "    </tr>\n",
       "  </thead>\n",
       "  <tbody>\n",
       "    <tr>\n",
       "      <th>Sunday</th>\n",
       "      <td>4568.00</td>\n",
       "    </tr>\n",
       "    <tr>\n",
       "      <th>Monday</th>\n",
       "      <td>4673.00</td>\n",
       "    </tr>\n",
       "    <tr>\n",
       "      <th>Tuesday</th>\n",
       "      <td>4737.00</td>\n",
       "    </tr>\n",
       "    <tr>\n",
       "      <th>Wednesday</th>\n",
       "      <td>4868.00</td>\n",
       "    </tr>\n",
       "    <tr>\n",
       "      <th>Thursday</th>\n",
       "      <td>5325.00</td>\n",
       "    </tr>\n",
       "    <tr>\n",
       "      <th>Friday</th>\n",
       "      <td>5384.00</td>\n",
       "    </tr>\n",
       "    <tr>\n",
       "      <th>Saturday</th>\n",
       "      <td>6985.00</td>\n",
       "    </tr>\n",
       "  </tbody>\n",
       "</table>\n",
       "</div>"
      ],
      "text/plain": [
       "           counts_exits\n",
       "dayname                \n",
       "Sunday          4568.00\n",
       "Monday          4673.00\n",
       "Tuesday         4737.00\n",
       "Wednesday       4868.00\n",
       "Thursday        5325.00\n",
       "Friday          5384.00\n",
       "Saturday        6985.00"
      ]
     },
     "execution_count": 71,
     "metadata": {},
     "output_type": "execute_result"
    }
   ],
   "source": [
    "exits_count[exits_count.turnstile == \"R238A-R046-02-00-02-GRD CNTRL-42 ST\"].groupby(\"dayname\")[[\"counts_exits\"]].sum().sort_values([\"counts_exits\"])"
   ]
  },
  {
   "cell_type": "code",
   "execution_count": 72,
   "metadata": {},
   "outputs": [],
   "source": [
    "veri = exits_count[exits_count.turnstile == \"R238A-R046-02-00-02-GRD CNTRL-42 ST\"].groupby(\"dayname\")[[\"counts_exits\"]].sum().reset_index()"
   ]
  },
  {
   "cell_type": "code",
   "execution_count": 73,
   "metadata": {},
   "outputs": [
    {
     "data": {
      "text/plain": [
       "[<matplotlib.lines.Line2D at 0x270a99c6e08>]"
      ]
     },
     "execution_count": 73,
     "metadata": {},
     "output_type": "execute_result"
    },
    {
     "data": {
      "image/png": "[encoded data removed]",
      "text/plain": [
       "<Figure size 1080x360 with 1 Axes>"
      ]
     },
     "metadata": {
      "needs_background": "light"
     },
     "output_type": "display_data"
    }
   ],
   "source": [
    "plt.figure(figsize=(15,5))\n",
    "plt.plot(veri.dayname, veri.counts_exits)"
   ]
  },
  {
   "cell_type": "code",
   "execution_count": 74,
   "metadata": {},
   "outputs": [
    {
     "data": {
      "text/html": [
       "<div>\n",
       "<style scoped>\n",
       "    .dataframe tbody tr th:only-of-type {\n",
       "        vertical-align: middle;\n",
       "    }\n",
       "\n",
       "    .dataframe tbody tr th {\n",
       "        vertical-align: top;\n",
       "    }\n",
       "\n",
       "    .dataframe thead th {\n",
       "        text-align: right;\n",
       "    }\n",
       "</style>\n",
       "<table border=\"1\" class=\"dataframe\">\n",
       "  <thead>\n",
       "    <tr style=\"text-align: right;\">\n",
       "      <th></th>\n",
       "      <th>c/a</th>\n",
       "      <th>unit</th>\n",
       "      <th>scp</th>\n",
       "      <th>station</th>\n",
       "      <th>date</th>\n",
       "      <th>time</th>\n",
       "      <th>entries</th>\n",
       "      <th>exits</th>\n",
       "      <th>datetime</th>\n",
       "      <th>dayname</th>\n",
       "      <th>turnstile</th>\n",
       "      <th>counts</th>\n",
       "      <th>counts_exits</th>\n",
       "    </tr>\n",
       "  </thead>\n",
       "  <tbody>\n",
       "    <tr>\n",
       "      <th>159748</th>\n",
       "      <td>R251</td>\n",
       "      <td>R144</td>\n",
       "      <td>00-00-00</td>\n",
       "      <td>96 ST</td>\n",
       "      <td>2018-11-24</td>\n",
       "      <td>00:00:00</td>\n",
       "      <td>22727297</td>\n",
       "      <td>14762513</td>\n",
       "      <td>2018-11-24</td>\n",
       "      <td>Saturday</td>\n",
       "      <td>R251-R144-00-00-00-96 ST</td>\n",
       "      <td>nan</td>\n",
       "      <td>nan</td>\n",
       "    </tr>\n",
       "    <tr>\n",
       "      <th>81786</th>\n",
       "      <td>N329</td>\n",
       "      <td>R201</td>\n",
       "      <td>00-03-01</td>\n",
       "      <td>WOODHAVEN BLVD</td>\n",
       "      <td>2018-11-24</td>\n",
       "      <td>00:00:00</td>\n",
       "      <td>654880</td>\n",
       "      <td>421891</td>\n",
       "      <td>2018-11-24</td>\n",
       "      <td>Saturday</td>\n",
       "      <td>N329-R201-00-03-01-WOODHAVEN BLVD</td>\n",
       "      <td>nan</td>\n",
       "      <td>nan</td>\n",
       "    </tr>\n",
       "    <tr>\n",
       "      <th>81743</th>\n",
       "      <td>N329</td>\n",
       "      <td>R201</td>\n",
       "      <td>00-03-00</td>\n",
       "      <td>WOODHAVEN BLVD</td>\n",
       "      <td>2018-11-24</td>\n",
       "      <td>00:00:00</td>\n",
       "      <td>4796678</td>\n",
       "      <td>2684091</td>\n",
       "      <td>2018-11-24</td>\n",
       "      <td>Saturday</td>\n",
       "      <td>N329-R201-00-03-00-WOODHAVEN BLVD</td>\n",
       "      <td>nan</td>\n",
       "      <td>nan</td>\n",
       "    </tr>\n",
       "    <tr>\n",
       "      <th>81700</th>\n",
       "      <td>N329</td>\n",
       "      <td>R201</td>\n",
       "      <td>00-00-01</td>\n",
       "      <td>WOODHAVEN BLVD</td>\n",
       "      <td>2018-11-24</td>\n",
       "      <td>00:00:00</td>\n",
       "      <td>3138883</td>\n",
       "      <td>1171747</td>\n",
       "      <td>2018-11-24</td>\n",
       "      <td>Saturday</td>\n",
       "      <td>N329-R201-00-00-01-WOODHAVEN BLVD</td>\n",
       "      <td>nan</td>\n",
       "      <td>nan</td>\n",
       "    </tr>\n",
       "    <tr>\n",
       "      <th>9662</th>\n",
       "      <td>A053</td>\n",
       "      <td>R088</td>\n",
       "      <td>03-00-02</td>\n",
       "      <td>CORTLANDT ST</td>\n",
       "      <td>2018-11-24</td>\n",
       "      <td>00:00:00</td>\n",
       "      <td>89354</td>\n",
       "      <td>106389</td>\n",
       "      <td>2018-11-24</td>\n",
       "      <td>Saturday</td>\n",
       "      <td>A053-R088-03-00-02-CORTLANDT ST</td>\n",
       "      <td>nan</td>\n",
       "      <td>nan</td>\n",
       "    </tr>\n",
       "  </tbody>\n",
       "</table>\n",
       "</div>"
      ],
      "text/plain": [
       "         c/a  unit       scp         station       date      time   entries  \\\n",
       "159748  R251  R144  00-00-00           96 ST 2018-11-24  00:00:00  22727297   \n",
       "81786   N329  R201  00-03-01  WOODHAVEN BLVD 2018-11-24  00:00:00    654880   \n",
       "81743   N329  R201  00-03-00  WOODHAVEN BLVD 2018-11-24  00:00:00   4796678   \n",
       "81700   N329  R201  00-00-01  WOODHAVEN BLVD 2018-11-24  00:00:00   3138883   \n",
       "9662    A053  R088  03-00-02    CORTLANDT ST 2018-11-24  00:00:00     89354   \n",
       "\n",
       "           exits   datetime   dayname                          turnstile  \\\n",
       "159748  14762513 2018-11-24  Saturday           R251-R144-00-00-00-96 ST   \n",
       "81786     421891 2018-11-24  Saturday  N329-R201-00-03-01-WOODHAVEN BLVD   \n",
       "81743    2684091 2018-11-24  Saturday  N329-R201-00-03-00-WOODHAVEN BLVD   \n",
       "81700    1171747 2018-11-24  Saturday  N329-R201-00-00-01-WOODHAVEN BLVD   \n",
       "9662      106389 2018-11-24  Saturday    A053-R088-03-00-02-CORTLANDT ST   \n",
       "\n",
       "        counts  counts_exits  \n",
       "159748     nan           nan  \n",
       "81786      nan           nan  \n",
       "81743      nan           nan  \n",
       "81700      nan           nan  \n",
       "9662       nan           nan  "
      ]
     },
     "execution_count": 74,
     "metadata": {},
     "output_type": "execute_result"
    }
   ],
   "source": [
    "mta.head()"
   ]
  },
  {
   "cell_type": "code",
   "execution_count": 75,
   "metadata": {},
   "outputs": [
    {
     "data": {
      "text/plain": [
       "c/a                0\n",
       "unit               0\n",
       "scp                0\n",
       "station            0\n",
       "date               0\n",
       "time               0\n",
       "entries            0\n",
       "exits              0\n",
       "datetime           0\n",
       "dayname            0\n",
       "turnstile          0\n",
       "counts          5076\n",
       "counts_exits    5076\n",
       "dtype: int64"
      ]
     },
     "execution_count": 75,
     "metadata": {},
     "output_type": "execute_result"
    }
   ],
   "source": [
    "mta.isnull().sum()"
   ]
  },
  {
   "cell_type": "markdown",
   "metadata": {},
   "source": [
    "**TRAFFIC**"
   ]
  },
  {
   "cell_type": "code",
   "execution_count": 76,
   "metadata": {},
   "outputs": [],
   "source": [
    "mta[\"traffic\"] = mta[\"counts\"] + mta[\"counts_exits\"]"
   ]
  },
  {
   "cell_type": "code",
   "execution_count": 77,
   "metadata": {},
   "outputs": [
    {
     "data": {
      "text/plain": [
       "count      2667707.00\n",
       "mean         92707.75\n",
       "std       13870297.67\n",
       "min              0.00\n",
       "25%             19.00\n",
       "50%            102.00\n",
       "75%            311.00\n",
       "max     3940596484.00\n",
       "Name: traffic, dtype: float64"
      ]
     },
     "execution_count": 77,
     "metadata": {},
     "output_type": "execute_result"
    }
   ],
   "source": [
    "mta[\"traffic\"].describe()"
   ]
  },
  {
   "cell_type": "code",
   "execution_count": 78,
   "metadata": {},
   "outputs": [
    {
     "data": {
      "image/png": "[encoded data removed]",
      "text/plain": [
       "<Figure size 1080x504 with 1 Axes>"
      ]
     },
     "metadata": {
      "needs_background": "light"
     },
     "output_type": "display_data"
    }
   ],
   "source": [
    "plt.figure(figsize=[15,7])\n",
    "plt.hist(mta[\"traffic\"]);"
   ]
  },
  {
   "cell_type": "code",
   "execution_count": 79,
   "metadata": {},
   "outputs": [
    {
     "data": {
      "image/png": "[encoded data removed]",
      "text/plain": [
       "<Figure size 1440x360 with 1 Axes>"
      ]
     },
     "metadata": {
      "needs_background": "light"
     },
     "output_type": "display_data"
    }
   ],
   "source": [
    "plt.figure(figsize = (20,5))\n",
    "plt.boxplot(mta.traffic, vert=False);"
   ]
  },
  {
   "cell_type": "code",
   "execution_count": 80,
   "metadata": {},
   "outputs": [
    {
     "data": {
      "text/plain": [
       "0.75    311.00\n",
       "0.80    391.00\n",
       "0.85    501.00\n",
       "0.90    663.00\n",
       "0.95    962.00\n",
       "0.97   1199.00\n",
       "0.98   1398.00\n",
       "Name: traffic, dtype: float64"
      ]
     },
     "execution_count": 80,
     "metadata": {},
     "output_type": "execute_result"
    }
   ],
   "source": [
    "mta[\"traffic\"].quantile([0.75, 0.80, 0.85, 0.90, 0.95, 0.97, 0.98])"
   ]
  },
  {
   "cell_type": "code",
   "execution_count": 81,
   "metadata": {},
   "outputs": [
    {
     "name": "stderr",
     "output_type": "stream",
     "text": [
      "C:\\Users\\dilat\\Anaconda3\\lib\\site-packages\\seaborn\\distributions.py:2551: FutureWarning: `distplot` is a deprecated function and will be removed in a future version. Please adapt your code to use either `displot` (a figure-level function with similar flexibility) or `histplot` (an axes-level function for histograms).\n",
      "  warnings.warn(msg, FutureWarning)\n"
     ]
    },
    {
     "data": {
      "image/png": "[encoded data removed]",
      "text/plain": [
       "<Figure size 432x288 with 1 Axes>"
      ]
     },
     "metadata": {
      "needs_background": "light"
     },
     "output_type": "display_data"
    }
   ],
   "source": [
    "veriz = mta[mta[\"traffic\"]<(mta[\"traffic\"].quantile(0.95))]\n",
    "ax=sns.distplot(veriz[\"traffic\"])"
   ]
  },
  {
   "cell_type": "code",
   "execution_count": 82,
   "metadata": {},
   "outputs": [],
   "source": [
    "mta[\"traffic\"] = np.where((mta[\"traffic\"] > mta[\"traffic\"].quantile(0.95)), mta[\"traffic\"].median(), mta[\"traffic\"])"
   ]
  },
  {
   "cell_type": "code",
   "execution_count": 83,
   "metadata": {},
   "outputs": [
    {
     "data": {
      "text/plain": [
       "count   2667707.00\n",
       "mean        174.93\n",
       "std         212.30\n",
       "min           0.00\n",
       "25%          19.00\n",
       "50%         102.00\n",
       "75%         249.00\n",
       "max         962.00\n",
       "Name: traffic, dtype: float64"
      ]
     },
     "execution_count": 83,
     "metadata": {},
     "output_type": "execute_result"
    }
   ],
   "source": [
    "mta[\"traffic\"].describe()"
   ]
  },
  {
   "cell_type": "code",
   "execution_count": 84,
   "metadata": {},
   "outputs": [],
   "source": [
    "traffic = mta.groupby(\"dayname\")[[\"traffic\"]].sum().sort_values(by=[\"traffic\"]).reset_index()"
   ]
  },
  {
   "cell_type": "code",
   "execution_count": 85,
   "metadata": {},
   "outputs": [
    {
     "data": {
      "text/html": [
       "<div>\n",
       "<style scoped>\n",
       "    .dataframe tbody tr th:only-of-type {\n",
       "        vertical-align: middle;\n",
       "    }\n",
       "\n",
       "    .dataframe tbody tr th {\n",
       "        vertical-align: top;\n",
       "    }\n",
       "\n",
       "    .dataframe thead th {\n",
       "        text-align: right;\n",
       "    }\n",
       "</style>\n",
       "<table border=\"1\" class=\"dataframe\">\n",
       "  <thead>\n",
       "    <tr style=\"text-align: right;\">\n",
       "      <th></th>\n",
       "      <th>dayname</th>\n",
       "      <th>traffic</th>\n",
       "    </tr>\n",
       "  </thead>\n",
       "  <tbody>\n",
       "    <tr>\n",
       "      <th>0</th>\n",
       "      <td>Sunday</td>\n",
       "      <td>47735151.00</td>\n",
       "    </tr>\n",
       "    <tr>\n",
       "      <th>1</th>\n",
       "      <td>Saturday</td>\n",
       "      <td>56416984.00</td>\n",
       "    </tr>\n",
       "    <tr>\n",
       "      <th>2</th>\n",
       "      <td>Tuesday</td>\n",
       "      <td>71474630.00</td>\n",
       "    </tr>\n",
       "    <tr>\n",
       "      <th>3</th>\n",
       "      <td>Wednesday</td>\n",
       "      <td>71813497.00</td>\n",
       "    </tr>\n",
       "    <tr>\n",
       "      <th>4</th>\n",
       "      <td>Monday</td>\n",
       "      <td>72044742.00</td>\n",
       "    </tr>\n",
       "    <tr>\n",
       "      <th>5</th>\n",
       "      <td>Thursday</td>\n",
       "      <td>73445956.00</td>\n",
       "    </tr>\n",
       "    <tr>\n",
       "      <th>6</th>\n",
       "      <td>Friday</td>\n",
       "      <td>73735306.00</td>\n",
       "    </tr>\n",
       "  </tbody>\n",
       "</table>\n",
       "</div>"
      ],
      "text/plain": [
       "     dayname     traffic\n",
       "0     Sunday 47735151.00\n",
       "1   Saturday 56416984.00\n",
       "2    Tuesday 71474630.00\n",
       "3  Wednesday 71813497.00\n",
       "4     Monday 72044742.00\n",
       "5   Thursday 73445956.00\n",
       "6     Friday 73735306.00"
      ]
     },
     "execution_count": 85,
     "metadata": {},
     "output_type": "execute_result"
    }
   ],
   "source": [
    "traffic"
   ]
  },
  {
   "cell_type": "code",
   "execution_count": 86,
   "metadata": {},
   "outputs": [
    {
     "data": {
      "text/plain": [
       "[<matplotlib.lines.Line2D at 0x270bd14af88>]"
      ]
     },
     "execution_count": 86,
     "metadata": {},
     "output_type": "execute_result"
    },
    {
     "data": {
      "image/png": "[encoded data removed]",
      "text/plain": [
       "<Figure size 1080x360 with 1 Axes>"
      ]
     },
     "metadata": {
      "needs_background": "light"
     },
     "output_type": "display_data"
    }
   ],
   "source": [
    "plt.figure(figsize=(15,5))\n",
    "plt.plot(traffic.dayname, traffic.traffic)"
   ]
  },
  {
   "cell_type": "code",
   "execution_count": 87,
   "metadata": {},
   "outputs": [],
   "source": [
    "trafficbyturnstile = mta.groupby([\"turnstile\",\"station\"])[[\"traffic\"]].sum().sort_values(by=[\"traffic\"],ascending=False).reset_index().head(15)"
   ]
  },
  {
   "cell_type": "code",
   "execution_count": 88,
   "metadata": {},
   "outputs": [
    {
     "data": {
      "text/html": [
       "<div>\n",
       "<style scoped>\n",
       "    .dataframe tbody tr th:only-of-type {\n",
       "        vertical-align: middle;\n",
       "    }\n",
       "\n",
       "    .dataframe tbody tr th {\n",
       "        vertical-align: top;\n",
       "    }\n",
       "\n",
       "    .dataframe thead th {\n",
       "        text-align: right;\n",
       "    }\n",
       "</style>\n",
       "<table border=\"1\" class=\"dataframe\">\n",
       "  <thead>\n",
       "    <tr style=\"text-align: right;\">\n",
       "      <th></th>\n",
       "      <th>turnstile</th>\n",
       "      <th>station</th>\n",
       "      <th>traffic</th>\n",
       "    </tr>\n",
       "  </thead>\n",
       "  <tbody>\n",
       "    <tr>\n",
       "      <th>0</th>\n",
       "      <td>H037-R349-00-00-00-SUTTER AV</td>\n",
       "      <td>SUTTER AV</td>\n",
       "      <td>244291.00</td>\n",
       "    </tr>\n",
       "    <tr>\n",
       "      <th>1</th>\n",
       "      <td>R414-R162-00-00-00-ELDER AV</td>\n",
       "      <td>ELDER AV</td>\n",
       "      <td>244176.00</td>\n",
       "    </tr>\n",
       "    <tr>\n",
       "      <th>2</th>\n",
       "      <td>R529-R208-00-00-00-103 ST-CORONA</td>\n",
       "      <td>103 ST-CORONA</td>\n",
       "      <td>241967.00</td>\n",
       "    </tr>\n",
       "    <tr>\n",
       "      <th>3</th>\n",
       "      <td>R529-R208-00-00-04-103 ST-CORONA</td>\n",
       "      <td>103 ST-CORONA</td>\n",
       "      <td>239058.00</td>\n",
       "    </tr>\n",
       "    <tr>\n",
       "      <th>4</th>\n",
       "      <td>N124-R103-00-03-02-BROADWAY JCT</td>\n",
       "      <td>BROADWAY JCT</td>\n",
       "      <td>238832.00</td>\n",
       "    </tr>\n",
       "    <tr>\n",
       "      <th>5</th>\n",
       "      <td>R528-R097-00-00-00-JUNCTION BLVD</td>\n",
       "      <td>JUNCTION BLVD</td>\n",
       "      <td>235942.00</td>\n",
       "    </tr>\n",
       "    <tr>\n",
       "      <th>6</th>\n",
       "      <td>R530-R310-00-00-04-111 ST</td>\n",
       "      <td>111 ST</td>\n",
       "      <td>233423.00</td>\n",
       "    </tr>\n",
       "    <tr>\n",
       "      <th>7</th>\n",
       "      <td>R186-R036-00-00-00-DYCKMAN ST</td>\n",
       "      <td>DYCKMAN ST</td>\n",
       "      <td>230193.00</td>\n",
       "    </tr>\n",
       "    <tr>\n",
       "      <th>8</th>\n",
       "      <td>R284-R243-00-00-03-170 ST</td>\n",
       "      <td>170 ST</td>\n",
       "      <td>228846.00</td>\n",
       "    </tr>\n",
       "    <tr>\n",
       "      <th>9</th>\n",
       "      <td>R529-R208-00-05-00-103 ST-CORONA</td>\n",
       "      <td>103 ST-CORONA</td>\n",
       "      <td>228779.00</td>\n",
       "    </tr>\n",
       "    <tr>\n",
       "      <th>10</th>\n",
       "      <td>R401-R445-00-00-02-3 AV 138 ST</td>\n",
       "      <td>3 AV 138 ST</td>\n",
       "      <td>227848.00</td>\n",
       "    </tr>\n",
       "    <tr>\n",
       "      <th>11</th>\n",
       "      <td>N120-R153-00-00-03-UTICA AV</td>\n",
       "      <td>UTICA AV</td>\n",
       "      <td>224891.00</td>\n",
       "    </tr>\n",
       "    <tr>\n",
       "      <th>12</th>\n",
       "      <td>H039-R375-00-00-00-NEW LOTS</td>\n",
       "      <td>NEW LOTS</td>\n",
       "      <td>224604.00</td>\n",
       "    </tr>\n",
       "    <tr>\n",
       "      <th>13</th>\n",
       "      <td>G009-R151-02-00-05-CONEY IS-STILLW</td>\n",
       "      <td>CONEY IS-STILLW</td>\n",
       "      <td>224435.00</td>\n",
       "    </tr>\n",
       "    <tr>\n",
       "      <th>14</th>\n",
       "      <td>R528-R097-00-00-04-JUNCTION BLVD</td>\n",
       "      <td>JUNCTION BLVD</td>\n",
       "      <td>223524.00</td>\n",
       "    </tr>\n",
       "  </tbody>\n",
       "</table>\n",
       "</div>"
      ],
      "text/plain": [
       "                             turnstile          station   traffic\n",
       "0         H037-R349-00-00-00-SUTTER AV        SUTTER AV 244291.00\n",
       "1          R414-R162-00-00-00-ELDER AV         ELDER AV 244176.00\n",
       "2     R529-R208-00-00-00-103 ST-CORONA    103 ST-CORONA 241967.00\n",
       "3     R529-R208-00-00-04-103 ST-CORONA    103 ST-CORONA 239058.00\n",
       "4      N124-R103-00-03-02-BROADWAY JCT     BROADWAY JCT 238832.00\n",
       "5     R528-R097-00-00-00-JUNCTION BLVD    JUNCTION BLVD 235942.00\n",
       "6            R530-R310-00-00-04-111 ST           111 ST 233423.00\n",
       "7        R186-R036-00-00-00-DYCKMAN ST       DYCKMAN ST 230193.00\n",
       "8            R284-R243-00-00-03-170 ST           170 ST 228846.00\n",
       "9     R529-R208-00-05-00-103 ST-CORONA    103 ST-CORONA 228779.00\n",
       "10      R401-R445-00-00-02-3 AV 138 ST      3 AV 138 ST 227848.00\n",
       "11         N120-R153-00-00-03-UTICA AV         UTICA AV 224891.00\n",
       "12         H039-R375-00-00-00-NEW LOTS         NEW LOTS 224604.00\n",
       "13  G009-R151-02-00-05-CONEY IS-STILLW  CONEY IS-STILLW 224435.00\n",
       "14    R528-R097-00-00-04-JUNCTION BLVD    JUNCTION BLVD 223524.00"
      ]
     },
     "execution_count": 88,
     "metadata": {},
     "output_type": "execute_result"
    }
   ],
   "source": [
    "trafficbyturnstile"
   ]
  },
  {
   "cell_type": "code",
   "execution_count": 89,
   "metadata": {},
   "outputs": [],
   "source": [
    "indices = range(len(trafficbyturnstile))"
   ]
  },
  {
   "cell_type": "code",
   "execution_count": 90,
   "metadata": {},
   "outputs": [],
   "source": [
    "trafficbyturnstile = trafficbyturnstile.set_index('turnstile')"
   ]
  },
  {
   "cell_type": "code",
   "execution_count": 91,
   "metadata": {},
   "outputs": [
    {
     "data": {
      "image/png": "[encoded data removed]",
      "text/plain": [
       "<Figure size 720x360 with 1 Axes>"
      ]
     },
     "metadata": {
      "needs_background": "light"
     },
     "output_type": "display_data"
    }
   ],
   "source": [
    "plt.figure(figsize=[10,5])\n",
    "plt.bar(trafficbyturnstile.index, trafficbyturnstile.traffic)\n",
    "plt.xticks(rotation=45, ha='right');"
   ]
  },
  {
   "cell_type": "markdown",
   "metadata": {},
   "source": [
    "## new added stuff: group by station version"
   ]
  },
  {
   "cell_type": "code",
   "execution_count": 92,
   "metadata": {},
   "outputs": [],
   "source": [
    "trafficbySTATION = mta.groupby([\"station\"])[[\"traffic\"]].sum().sort_values(by=[\"traffic\"],ascending=False).reset_index().head(15)"
   ]
  },
  {
   "cell_type": "code",
   "execution_count": 93,
   "metadata": {},
   "outputs": [
    {
     "data": {
      "text/html": [
       "<div>\n",
       "<style scoped>\n",
       "    .dataframe tbody tr th:only-of-type {\n",
       "        vertical-align: middle;\n",
       "    }\n",
       "\n",
       "    .dataframe tbody tr th {\n",
       "        vertical-align: top;\n",
       "    }\n",
       "\n",
       "    .dataframe thead th {\n",
       "        text-align: right;\n",
       "    }\n",
       "</style>\n",
       "<table border=\"1\" class=\"dataframe\">\n",
       "  <thead>\n",
       "    <tr style=\"text-align: right;\">\n",
       "      <th></th>\n",
       "      <th>station</th>\n",
       "      <th>traffic</th>\n",
       "    </tr>\n",
       "  </thead>\n",
       "  <tbody>\n",
       "    <tr>\n",
       "      <th>0</th>\n",
       "      <td>34 ST-PENN STA</td>\n",
       "      <td>12300708.00</td>\n",
       "    </tr>\n",
       "    <tr>\n",
       "      <th>1</th>\n",
       "      <td>23 ST</td>\n",
       "      <td>7843454.00</td>\n",
       "    </tr>\n",
       "    <tr>\n",
       "      <th>2</th>\n",
       "      <td>FULTON ST</td>\n",
       "      <td>7522039.00</td>\n",
       "    </tr>\n",
       "    <tr>\n",
       "      <th>3</th>\n",
       "      <td>GRD CNTRL-42 ST</td>\n",
       "      <td>7154372.00</td>\n",
       "    </tr>\n",
       "    <tr>\n",
       "      <th>4</th>\n",
       "      <td>86 ST</td>\n",
       "      <td>7066216.00</td>\n",
       "    </tr>\n",
       "    <tr>\n",
       "      <th>5</th>\n",
       "      <td>34 ST-HERALD SQ</td>\n",
       "      <td>6873973.00</td>\n",
       "    </tr>\n",
       "    <tr>\n",
       "      <th>6</th>\n",
       "      <td>42 ST-PORT AUTH</td>\n",
       "      <td>6639269.00</td>\n",
       "    </tr>\n",
       "    <tr>\n",
       "      <th>7</th>\n",
       "      <td>125 ST</td>\n",
       "      <td>6314034.00</td>\n",
       "    </tr>\n",
       "    <tr>\n",
       "      <th>8</th>\n",
       "      <td>59 ST</td>\n",
       "      <td>6227517.00</td>\n",
       "    </tr>\n",
       "    <tr>\n",
       "      <th>9</th>\n",
       "      <td>TIMES SQ-42 ST</td>\n",
       "      <td>6042140.00</td>\n",
       "    </tr>\n",
       "    <tr>\n",
       "      <th>10</th>\n",
       "      <td>CANAL ST</td>\n",
       "      <td>5945107.00</td>\n",
       "    </tr>\n",
       "    <tr>\n",
       "      <th>11</th>\n",
       "      <td>14 ST</td>\n",
       "      <td>4901189.00</td>\n",
       "    </tr>\n",
       "    <tr>\n",
       "      <th>12</th>\n",
       "      <td>14 ST-UNION SQ</td>\n",
       "      <td>4767211.00</td>\n",
       "    </tr>\n",
       "    <tr>\n",
       "      <th>13</th>\n",
       "      <td>96 ST</td>\n",
       "      <td>4540363.00</td>\n",
       "    </tr>\n",
       "    <tr>\n",
       "      <th>14</th>\n",
       "      <td>59 ST COLUMBUS</td>\n",
       "      <td>4453805.00</td>\n",
       "    </tr>\n",
       "  </tbody>\n",
       "</table>\n",
       "</div>"
      ],
      "text/plain": [
       "            station     traffic\n",
       "0    34 ST-PENN STA 12300708.00\n",
       "1             23 ST  7843454.00\n",
       "2         FULTON ST  7522039.00\n",
       "3   GRD CNTRL-42 ST  7154372.00\n",
       "4             86 ST  7066216.00\n",
       "5   34 ST-HERALD SQ  6873973.00\n",
       "6   42 ST-PORT AUTH  6639269.00\n",
       "7            125 ST  6314034.00\n",
       "8             59 ST  6227517.00\n",
       "9    TIMES SQ-42 ST  6042140.00\n",
       "10         CANAL ST  5945107.00\n",
       "11            14 ST  4901189.00\n",
       "12   14 ST-UNION SQ  4767211.00\n",
       "13            96 ST  4540363.00\n",
       "14   59 ST COLUMBUS  4453805.00"
      ]
     },
     "execution_count": 93,
     "metadata": {},
     "output_type": "execute_result"
    }
   ],
   "source": [
    "trafficbySTATION"
   ]
  },
  {
   "cell_type": "code",
   "execution_count": 94,
   "metadata": {},
   "outputs": [],
   "source": [
    "indices2 = range(len(trafficbySTATION))"
   ]
  },
  {
   "cell_type": "code",
   "execution_count": 95,
   "metadata": {},
   "outputs": [],
   "source": [
    "trafficbySTATION = trafficbySTATION.set_index('station')"
   ]
  },
  {
   "cell_type": "code",
   "execution_count": 96,
   "metadata": {},
   "outputs": [
    {
     "data": {
      "image/png": "[encoded data removed]",
      "text/plain": [
       "<Figure size 720x360 with 1 Axes>"
      ]
     },
     "metadata": {
      "needs_background": "light"
     },
     "output_type": "display_data"
    }
   ],
   "source": [
    "plt.figure(figsize=[10,5])\n",
    "plt.bar(trafficbySTATION.index, trafficbySTATION.traffic)\n",
    "plt.xticks(rotation=45, ha='right');"
   ]
  }
 ],
 "metadata": {
  "kernelspec": {
   "display_name": "Python 3",
   "language": "python",
   "name": "python3"
  },
  "language_info": {
   "codemirror_mode": {
    "name": "ipython",
    "version": 3
   },
   "file_extension": ".py",
   "mimetype": "text/x-python",
   "name": "python",
   "nbconvert_exporter": "python",
   "pygments_lexer": "ipython3",
   "version": "3.7.9"
  },
  "toc": {
   "base_numbering": 1,
   "nav_menu": {},
   "number_sections": true,
   "sideBar": true,
   "skip_h1_title": false,
   "title_cell": "Table of Contents",
   "title_sidebar": "Contents",
   "toc_cell": false,
   "toc_position": {},
   "toc_section_display": true,
   "toc_window_display": false
  }
 },
 "nbformat": 4,
 "nbformat_minor": 2
}
